{
 "metadata": {
  "language_info": {
   "codemirror_mode": {
    "name": "ipython",
    "version": 3
   },
   "file_extension": ".py",
   "mimetype": "text/x-python",
   "name": "python",
   "nbconvert_exporter": "python",
   "pygments_lexer": "ipython3",
   "version": "3.6.13"
  },
  "orig_nbformat": 4,
  "kernelspec": {
   "name": "python3",
   "display_name": "Python 3.6.13 64-bit ('pororo': conda)"
  },
  "interpreter": {
   "hash": "4dd82c4ad296456cc5bf7c609e3e0d53ae23701d2dbea05fd117c73a94ff552e"
  }
 },
 "nbformat": 4,
 "nbformat_minor": 2,
 "cells": [
  {
   "cell_type": "code",
   "execution_count": 19,
   "metadata": {},
   "outputs": [
    {
     "output_type": "execute_result",
     "data": {
      "text/plain": [
       "\"Available tasks are ['mrc', 'rc', 'qa', 'question_answering', 'machine_reading_comprehension', 'reading_comprehension', 'sentiment', 'sentiment_analysis', 'nli', 'natural_language_inference', 'inference', 'fill', 'fill_in_blank', 'fib', 'para', 'pi', 'cse', 'contextual_subword_embedding', 'similarity', 'sts', 'semantic_textual_similarity', 'sentence_similarity', 'sentvec', 'sentence_embedding', 'sentence_vector', 'se', 'inflection', 'morphological_inflection', 'g2p', 'grapheme_to_phoneme', 'grapheme_to_phoneme_conversion', 'w2v', 'wordvec', 'word2vec', 'word_vector', 'word_embedding', 'tokenize', 'tokenise', 'tokenization', 'tokenisation', 'tok', 'segmentation', 'seg', 'mt', 'machine_translation', 'translation', 'pos', 'tag', 'pos_tagging', 'tagging', 'const', 'constituency', 'constituency_parsing', 'cp', 'pg', 'collocation', 'collocate', 'col', 'word_translation', 'wt', 'summarization', 'summarisation', 'text_summarization', 'text_summarisation', 'summary', 'gec', 'review', 'review_scoring', 'lemmatization', 'lemmatisation', 'lemma', 'ner', 'named_entity_recognition', 'entity_recognition', 'zero-topic', 'dp', 'dep_parse', 'caption', 'captioning', 'asr', 'speech_recognition', 'st', 'speech_translation', 'tts', 'text_to_speech', 'speech_synthesis', 'ocr', 'srl', 'semantic_role_labeling', 'p2g', 'aes', 'essay', 'qg', 'question_generation', 'age_suitability', 'wsd']\""
      ]
     },
     "metadata": {},
     "execution_count": 19
    }
   ],
   "source": [
    ">>> from pororo import Pororo\n",
    ">>> Pororo.available_tasks()    #기능 체크\n"
   ]
  },
  {
   "cell_type": "code",
   "execution_count": 20,
   "metadata": {},
   "outputs": [
    {
     "output_type": "execute_result",
     "data": {
      "text/plain": [
       "'Available models for collocation are ([lang]: ko, [model]: kollocate), ([lang]: en, [model]: collocate.en), ([lang]: ja, [model]: collocate.ja), ([lang]: zh, [model]: collocate.zh)'"
      ]
     },
     "metadata": {},
     "execution_count": 20
    }
   ],
   "source": [
    "from pororo import Pororo\n",
    "Pororo.available_models(\"collocation\")   # 언어지원 확인하기 "
   ]
  },
  {
   "cell_type": "code",
   "execution_count": 21,
   "metadata": {},
   "outputs": [],
   "source": [
    " #from pororo import Pororo   # 특정한 부분만 쓰고 싶을 때 간단하게 설정해주기 \n",
    " ner = Pororo(task=\"ocr\", lang=\"ko\")"
   ]
  },
  {
   "cell_type": "code",
   "execution_count": 22,
   "metadata": {},
   "outputs": [],
   "source": [
    "# MUlitiple model 설정하는 예시\n",
    "#from pororo import Pororo\n",
    "#mt = Pororo(task=\"mt\", lang=\"multi\", model=\"transformer.large.multi.mtpg\")\n",
    "#fast_mt = Pororo(task=\"mt\", lang=\"multi\", model=\"transformer.large.multi.fast.mtpg\")\n"
   ]
  },
  {
   "cell_type": "code",
   "execution_count": 23,
   "metadata": {},
   "outputs": [],
   "source": [
    "ocr = Pororo(task=\"ocr\", lang=\"ko\")"
   ]
  },
  {
   "cell_type": "code",
   "execution_count": 24,
   "metadata": {},
   "outputs": [
    {
     "output_type": "execute_result",
     "data": {
      "text/plain": [
       "{'description': ['ktds',\n",
       "  'PEOPLE. TECHNOLOGY',\n",
       "  '김 광 열 과장 : 수미납개발팀 빌링담당 고객서비스본부 13606 경기도 성남시 분당구 불정로 90',\n",
       "  'E jake.kim@kt.com',\n",
       "  'M 010-4545-6221',\n",
       "  'H www.ktds.com'],\n",
       " 'bounding_poly': [{'description': 'ktds',\n",
       "   'vertices': [{'x': 519, 'y': 90},\n",
       "    {'x': 806, 'y': 90},\n",
       "    {'x': 806, 'y': 217},\n",
       "    {'x': 519, 'y': 217}]},\n",
       "  {'description': 'PEOPLE. TECHNOLOGY',\n",
       "   'vertices': [{'x': 95, 'y': 117},\n",
       "    {'x': 366, 'y': 117},\n",
       "    {'x': 366, 'y': 210},\n",
       "    {'x': 95, 'y': 210}]},\n",
       "  {'description': '김 광 열 과장 : 수미납개발팀 빌링담당 고객서비스본부 13606 경기도 성남시 분당구 불정로 90',\n",
       "   'vertices': [{'x': 523, 'y': 321},\n",
       "    {'x': 1128, 'y': 321},\n",
       "    {'x': 1128, 'y': 570},\n",
       "    {'x': 523, 'y': 570}]},\n",
       "  {'description': 'E jake.kim@kt.com',\n",
       "   'vertices': [{'x': 938, 'y': 622},\n",
       "    {'x': 1254, 'y': 622},\n",
       "    {'x': 1254, 'y': 674},\n",
       "    {'x': 938, 'y': 674}]},\n",
       "  {'description': 'M 010-4545-6221',\n",
       "   'vertices': [{'x': 529, 'y': 626},\n",
       "    {'x': 828, 'y': 626},\n",
       "    {'x': 828, 'y': 669},\n",
       "    {'x': 529, 'y': 669}]},\n",
       "  {'description': 'H www.ktds.com',\n",
       "   'vertices': [{'x': 532, 'y': 689},\n",
       "    {'x': 827, 'y': 689},\n",
       "    {'x': 827, 'y': 729},\n",
       "    {'x': 532, 'y': 729}]}]}"
      ]
     },
     "metadata": {},
     "execution_count": 24
    }
   ],
   "source": [
    "IMAGE_PATH = \"./source/김광열.jpg\"    # . 은 현재 디렉토리이며, .. 은 상위 디렉토리  -> !pwd로 나오는 경로는 현재 디렉토리이며, .으로 나타낸다.\n",
    "ocr(IMAGE_PATH, detail=True)"
   ]
  },
  {
   "cell_type": "code",
   "execution_count": 25,
   "metadata": {},
   "outputs": [],
   "source": [
    "# !pwd"
   ]
  },
  {
   "cell_type": "code",
   "execution_count": 26,
   "metadata": {},
   "outputs": [],
   "source": [
    "import json\n",
    "from collections import OrderedDict\n",
    "\n",
    "file_data = OrderedDict"
   ]
  },
  {
   "cell_type": "code",
   "execution_count": 27,
   "metadata": {},
   "outputs": [],
   "source": [
    "file_data =ocr(IMAGE_PATH, detail=True) "
   ]
  },
  {
   "cell_type": "code",
   "execution_count": 28,
   "metadata": {},
   "outputs": [
    {
     "output_type": "stream",
     "name": "stdout",
     "text": [
      "{\n\t\"description\": [\n\t\t\"ktds\",\n\t\t\"PEOPLE. TECHNOLOGY\",\n\t\t\"김 광 열 과장 : 수미납개발팀 빌링담당 고객서비스본부 13606 경기도 성남시 분당구 불정로 90\",\n\t\t\"E jake.kim@kt.com\",\n\t\t\"M 010-4545-6221\",\n\t\t\"H www.ktds.com\"\n\t],\n\t\"bounding_poly\": [\n\t\t{\n\t\t\t\"description\": \"ktds\",\n\t\t\t\"vertices\": [\n\t\t\t\t{\n\t\t\t\t\t\"x\": 519,\n\t\t\t\t\t\"y\": 90\n\t\t\t\t},\n\t\t\t\t{\n\t\t\t\t\t\"x\": 806,\n\t\t\t\t\t\"y\": 90\n\t\t\t\t},\n\t\t\t\t{\n\t\t\t\t\t\"x\": 806,\n\t\t\t\t\t\"y\": 217\n\t\t\t\t},\n\t\t\t\t{\n\t\t\t\t\t\"x\": 519,\n\t\t\t\t\t\"y\": 217\n\t\t\t\t}\n\t\t\t]\n\t\t},\n\t\t{\n\t\t\t\"description\": \"PEOPLE. TECHNOLOGY\",\n\t\t\t\"vertices\": [\n\t\t\t\t{\n\t\t\t\t\t\"x\": 95,\n\t\t\t\t\t\"y\": 117\n\t\t\t\t},\n\t\t\t\t{\n\t\t\t\t\t\"x\": 366,\n\t\t\t\t\t\"y\": 117\n\t\t\t\t},\n\t\t\t\t{\n\t\t\t\t\t\"x\": 366,\n\t\t\t\t\t\"y\": 210\n\t\t\t\t},\n\t\t\t\t{\n\t\t\t\t\t\"x\": 95,\n\t\t\t\t\t\"y\": 210\n\t\t\t\t}\n\t\t\t]\n\t\t},\n\t\t{\n\t\t\t\"description\": \"김 광 열 과장 : 수미납개발팀 빌링담당 고객서비스본부 13606 경기도 성남시 분당구 불정로 90\",\n\t\t\t\"vertices\": [\n\t\t\t\t{\n\t\t\t\t\t\"x\": 523,\n\t\t\t\t\t\"y\": 321\n\t\t\t\t},\n\t\t\t\t{\n\t\t\t\t\t\"x\": 1128,\n\t\t\t\t\t\"y\": 321\n\t\t\t\t},\n\t\t\t\t{\n\t\t\t\t\t\"x\": 1128,\n\t\t\t\t\t\"y\": 570\n\t\t\t\t},\n\t\t\t\t{\n\t\t\t\t\t\"x\": 523,\n\t\t\t\t\t\"y\": 570\n\t\t\t\t}\n\t\t\t]\n\t\t},\n\t\t{\n\t\t\t\"description\": \"E jake.kim@kt.com\",\n\t\t\t\"vertices\": [\n\t\t\t\t{\n\t\t\t\t\t\"x\": 938,\n\t\t\t\t\t\"y\": 622\n\t\t\t\t},\n\t\t\t\t{\n\t\t\t\t\t\"x\": 1254,\n\t\t\t\t\t\"y\": 622\n\t\t\t\t},\n\t\t\t\t{\n\t\t\t\t\t\"x\": 1254,\n\t\t\t\t\t\"y\": 674\n\t\t\t\t},\n\t\t\t\t{\n\t\t\t\t\t\"x\": 938,\n\t\t\t\t\t\"y\": 674\n\t\t\t\t}\n\t\t\t]\n\t\t},\n\t\t{\n\t\t\t\"description\": \"M 010-4545-6221\",\n\t\t\t\"vertices\": [\n\t\t\t\t{\n\t\t\t\t\t\"x\": 529,\n\t\t\t\t\t\"y\": 626\n\t\t\t\t},\n\t\t\t\t{\n\t\t\t\t\t\"x\": 828,\n\t\t\t\t\t\"y\": 626\n\t\t\t\t},\n\t\t\t\t{\n\t\t\t\t\t\"x\": 828,\n\t\t\t\t\t\"y\": 669\n\t\t\t\t},\n\t\t\t\t{\n\t\t\t\t\t\"x\": 529,\n\t\t\t\t\t\"y\": 669\n\t\t\t\t}\n\t\t\t]\n\t\t},\n\t\t{\n\t\t\t\"description\": \"H www.ktds.com\",\n\t\t\t\"vertices\": [\n\t\t\t\t{\n\t\t\t\t\t\"x\": 532,\n\t\t\t\t\t\"y\": 689\n\t\t\t\t},\n\t\t\t\t{\n\t\t\t\t\t\"x\": 827,\n\t\t\t\t\t\"y\": 689\n\t\t\t\t},\n\t\t\t\t{\n\t\t\t\t\t\"x\": 827,\n\t\t\t\t\t\"y\": 729\n\t\t\t\t},\n\t\t\t\t{\n\t\t\t\t\t\"x\": 532,\n\t\t\t\t\t\"y\": 729\n\t\t\t\t}\n\t\t\t]\n\t\t}\n\t]\n}\n"
     ]
    }
   ],
   "source": [
    "print(json.dumps(file_data, ensure_ascii=False, indent=\"\\t\"))\n"
   ]
  },
  {
   "cell_type": "code",
   "execution_count": 31,
   "metadata": {},
   "outputs": [],
   "source": [
    "with open('./source/words.json', 'w', encoding = \"utf-8\") as make_file:\n",
    "    json.dump(file_data, make_file, ensure_ascii=False, indent='\\t')"
   ]
  },
  {
   "cell_type": "code",
   "execution_count": 35,
   "metadata": {},
   "outputs": [
    {
     "output_type": "execute_result",
     "data": {
      "text/plain": [
       "dict_keys(['description', 'bounding_poly'])"
      ]
     },
     "metadata": {},
     "execution_count": 35
    }
   ],
   "source": [
    "d.keys()"
   ]
  },
  {
   "cell_type": "code",
   "execution_count": 50,
   "metadata": {},
   "outputs": [
    {
     "output_type": "execute_result",
     "data": {
      "text/plain": [
       "dict_values([['ktds', 'PEOPLE. TECHNOLOGY', '김 광 열 과장 : 수미납개발팀 빌링담당 고객서비스본부 13606 경기도 성남시 분당구 불정로 90', 'E jake.kim@kt.com', 'M 010-4545-6221', 'H www.ktds.com'], [{'description': 'ktds', 'vertices': [{'x': 519, 'y': 90}, {'x': 806, 'y': 90}, {'x': 806, 'y': 217}, {'x': 519, 'y': 217}]}, {'description': 'PEOPLE. TECHNOLOGY', 'vertices': [{'x': 95, 'y': 117}, {'x': 366, 'y': 117}, {'x': 366, 'y': 210}, {'x': 95, 'y': 210}]}, {'description': '김 광 열 과장 : 수미납개발팀 빌링담당 고객서비스본부 13606 경기도 성남시 분당구 불정로 90', 'vertices': [{'x': 523, 'y': 321}, {'x': 1128, 'y': 321}, {'x': 1128, 'y': 570}, {'x': 523, 'y': 570}]}, {'description': 'E jake.kim@kt.com', 'vertices': [{'x': 938, 'y': 622}, {'x': 1254, 'y': 622}, {'x': 1254, 'y': 674}, {'x': 938, 'y': 674}]}, {'description': 'M 010-4545-6221', 'vertices': [{'x': 529, 'y': 626}, {'x': 828, 'y': 626}, {'x': 828, 'y': 669}, {'x': 529, 'y': 669}]}, {'description': 'H www.ktds.com', 'vertices': [{'x': 532, 'y': 689}, {'x': 827, 'y': 689}, {'x': 827, 'y': 729}, {'x': 532, 'y': 729}]}]])"
      ]
     },
     "metadata": {},
     "execution_count": 50
    }
   ],
   "source": [
    "#print(file_data.values(), sep=\"\\n\")\n",
    "file_data.values()"
   ]
  },
  {
   "cell_type": "code",
   "execution_count": 53,
   "metadata": {},
   "outputs": [
    {
     "output_type": "execute_result",
     "data": {
      "text/plain": [
       "['ktds',\n",
       " 'PEOPLE. TECHNOLOGY',\n",
       " '김 광 열 과장 : 수미납개발팀 빌링담당 고객서비스본부 13606 경기도 성남시 분당구 불정로 90',\n",
       " 'E jake.kim@kt.com',\n",
       " 'M 010-4545-6221',\n",
       " 'H www.ktds.com']"
      ]
     },
     "metadata": {},
     "execution_count": 53
    }
   ],
   "source": [
    "file_data['description']"
   ]
  },
  {
   "cell_type": "code",
   "execution_count": 54,
   "metadata": {},
   "outputs": [],
   "source": [
    "#Description_sep = file_data['description']"
   ]
  },
  {
   "cell_type": "code",
   "execution_count": 56,
   "metadata": {},
   "outputs": [
    {
     "output_type": "execute_result",
     "data": {
      "text/plain": [
       "'김 광 열 과장 : 수미납개발팀 빌링담당 고객서비스본부 13606 경기도 성남시 분당구 불정로 90'"
      ]
     },
     "metadata": {},
     "execution_count": 56
    }
   ],
   "source": [
    "#Description_sep[2]\n",
    "#Description_sep[2] = '김 광 열/ 과장 : /수미납개발팀/ 빌링담당/ 고객서비스본부/ 13606 경기도 성남시 분당구 불정로 90'"
   ]
  },
  {
   "cell_type": "code",
   "execution_count": 62,
   "metadata": {},
   "outputs": [],
   "source": [
    "file_data['bounding_poly'][0]\n",
    "dic_k={}"
   ]
  },
  {
   "cell_type": "code",
   "execution_count": 63,
   "metadata": {},
   "outputs": [
    {
     "output_type": "execute_result",
     "data": {
      "text/plain": [
       "{'description': ['ktds',\n",
       "  'PEOPLE. TECHNOLOGY',\n",
       "  ['김 광 열',\n",
       "   ' 과장 : ',\n",
       "   '수미납개발팀',\n",
       "   ' 빌링담당',\n",
       "   ' 고객서비스본부',\n",
       "   ' 13606 경기도 성남시 분당구 불정로 90'],\n",
       "  'E jake.kim@kt.com',\n",
       "  'M 010-4545-6221',\n",
       "  'H www.ktds.com'],\n",
       " 'bounding_poly': [{'description': 'ktds',\n",
       "   'vertices': [{'x': 519, 'y': 90},\n",
       "    {'x': 806, 'y': 90},\n",
       "    {'x': 806, 'y': 217},\n",
       "    {'x': 519, 'y': 217}]},\n",
       "  {'description': 'PEOPLE. TECHNOLOGY',\n",
       "   'vertices': [{'x': 95, 'y': 117},\n",
       "    {'x': 366, 'y': 117},\n",
       "    {'x': 366, 'y': 210},\n",
       "    {'x': 95, 'y': 210}]},\n",
       "  {'description': '김 광 열 과장 : 수미납개발팀 빌링담당 고객서비스본부 13606 경기도 성남시 분당구 불정로 90',\n",
       "   'vertices': [{'x': 523, 'y': 321},\n",
       "    {'x': 1128, 'y': 321},\n",
       "    {'x': 1128, 'y': 570},\n",
       "    {'x': 523, 'y': 570}]},\n",
       "  {'description': 'E jake.kim@kt.com',\n",
       "   'vertices': [{'x': 938, 'y': 622},\n",
       "    {'x': 1254, 'y': 622},\n",
       "    {'x': 1254, 'y': 674},\n",
       "    {'x': 938, 'y': 674}]},\n",
       "  {'description': 'M 010-4545-6221',\n",
       "   'vertices': [{'x': 529, 'y': 626},\n",
       "    {'x': 828, 'y': 626},\n",
       "    {'x': 828, 'y': 669},\n",
       "    {'x': 529, 'y': 669}]},\n",
       "  {'description': 'H www.ktds.com',\n",
       "   'vertices': [{'x': 532, 'y': 689},\n",
       "    {'x': 827, 'y': 689},\n",
       "    {'x': 827, 'y': 729},\n",
       "    {'x': 532, 'y': 729}]}]}"
      ]
     },
     "metadata": {},
     "execution_count": 63
    }
   ],
   "source": [
    "file_data"
   ]
  },
  {
   "cell_type": "code",
   "execution_count": null,
   "metadata": {},
   "outputs": [],
   "source": []
  },
  {
   "cell_type": "code",
   "execution_count": 75,
   "metadata": {},
   "outputs": [
    {
     "output_type": "execute_result",
     "data": {
      "text/plain": [
       "{'text': 'ktds',\n",
       " 'box': [{'x': 519, 'y': 90},\n",
       "  {'x': 806, 'y': 90},\n",
       "  {'x': 806, 'y': 217},\n",
       "  {'x': 519, 'y': 217}]}"
      ]
     },
     "metadata": {},
     "execution_count": 75
    }
   ],
   "source": [
    "dic_k[\"text\"]=file_data['bounding_poly'][0]['description']\n",
    "dic_k[\"box\"]=file_data['bounding_poly'][0]['vertices']\n",
    "dic_k"
   ]
  },
  {
   "cell_type": "code",
   "execution_count": 72,
   "metadata": {},
   "outputs": [
    {
     "output_type": "execute_result",
     "data": {
      "text/plain": [
       "6"
      ]
     },
     "metadata": {},
     "execution_count": 72
    }
   ],
   "source": [
    "len(file_data['bounding_poly'])"
   ]
  },
  {
   "cell_type": "code",
   "execution_count": 126,
   "metadata": {},
   "outputs": [],
   "source": [
    "dic_k = {}\n",
    "listA=[]\n",
    "for i in range(len(file_data['bounding_poly'])):\n",
    "    listA.append({\"text\":file_data['bounding_poly'][i]['description'],\"box\":file_data['bounding_poly'][i]['vertices'],\"label\":\" \",\"id\":\" \"})"
   ]
  },
  {
   "cell_type": "code",
   "execution_count": 129,
   "metadata": {},
   "outputs": [
    {
     "output_type": "execute_result",
     "data": {
      "text/plain": [
       "[{'text': 'ktds',\n",
       "  'box': [{'x': 519, 'y': 90},\n",
       "   {'x': 806, 'y': 90},\n",
       "   {'x': 806, 'y': 217},\n",
       "   {'x': 519, 'y': 217}],\n",
       "  'label': ' ',\n",
       "  'id': ' '},\n",
       " {'text': 'PEOPLE. TECHNOLOGY',\n",
       "  'box': [{'x': 95, 'y': 117},\n",
       "   {'x': 366, 'y': 117},\n",
       "   {'x': 366, 'y': 210},\n",
       "   {'x': 95, 'y': 210}],\n",
       "  'label': ' ',\n",
       "  'id': ' '},\n",
       " {'text': '김 광 열 과장 : 수미납개발팀 빌링담당 고객서비스본부 13606 경기도 성남시 분당구 불정로 90',\n",
       "  'box': [{'x': 523, 'y': 321},\n",
       "   {'x': 1128, 'y': 321},\n",
       "   {'x': 1128, 'y': 570},\n",
       "   {'x': 523, 'y': 570}],\n",
       "  'label': ' ',\n",
       "  'id': ' '},\n",
       " {'text': 'E jake.kim@kt.com',\n",
       "  'box': [{'x': 938, 'y': 622},\n",
       "   {'x': 1254, 'y': 622},\n",
       "   {'x': 1254, 'y': 674},\n",
       "   {'x': 938, 'y': 674}],\n",
       "  'label': ' ',\n",
       "  'id': ' '},\n",
       " {'text': 'M 010-4545-6221',\n",
       "  'box': [{'x': 529, 'y': 626},\n",
       "   {'x': 828, 'y': 626},\n",
       "   {'x': 828, 'y': 669},\n",
       "   {'x': 529, 'y': 669}],\n",
       "  'label': ' ',\n",
       "  'id': ' '},\n",
       " {'text': 'H www.ktds.com',\n",
       "  'box': [{'x': 532, 'y': 689},\n",
       "   {'x': 827, 'y': 689},\n",
       "   {'x': 827, 'y': 729},\n",
       "   {'x': 532, 'y': 729}],\n",
       "  'label': ' ',\n",
       "  'id': ' '}]"
      ]
     },
     "metadata": {},
     "execution_count": 129
    }
   ],
   "source": [
    "listA"
   ]
  },
  {
   "cell_type": "code",
   "execution_count": 110,
   "metadata": {},
   "outputs": [],
   "source": [
    "#list_A =[]\n",
    "#for i in range(len(file_data['bounding_poly'])):\n",
    "#    dic_k[\"text\"]=file_data['bounding_poly'][i]['description']\n",
    "#    dic_k[\"box\"]=file_data['bounding_poly'][i]['vertices']\n",
    "\n",
    "#    list_A.append(dic_k[\"box\"])\n",
    "#    list_A.append(dic_k[\"text\"])\n",
    "#    list_A.append(\"label :\")\n",
    "#    list_A.append(\"ID :\")\n",
    "    "
   ]
  },
  {
   "cell_type": "code",
   "execution_count": 130,
   "metadata": {},
   "outputs": [
    {
     "output_type": "stream",
     "name": "stdout",
     "text": [
      "[\n\t{\n\t\t\"text\": \"ktds\",\n\t\t\"box\": [\n\t\t\t{\n\t\t\t\t\"x\": 519,\n\t\t\t\t\"y\": 90\n\t\t\t},\n\t\t\t{\n\t\t\t\t\"x\": 806,\n\t\t\t\t\"y\": 90\n\t\t\t},\n\t\t\t{\n\t\t\t\t\"x\": 806,\n\t\t\t\t\"y\": 217\n\t\t\t},\n\t\t\t{\n\t\t\t\t\"x\": 519,\n\t\t\t\t\"y\": 217\n\t\t\t}\n\t\t],\n\t\t\"label\": \" \",\n\t\t\"id\": \" \"\n\t},\n\t{\n\t\t\"text\": \"PEOPLE. TECHNOLOGY\",\n\t\t\"box\": [\n\t\t\t{\n\t\t\t\t\"x\": 95,\n\t\t\t\t\"y\": 117\n\t\t\t},\n\t\t\t{\n\t\t\t\t\"x\": 366,\n\t\t\t\t\"y\": 117\n\t\t\t},\n\t\t\t{\n\t\t\t\t\"x\": 366,\n\t\t\t\t\"y\": 210\n\t\t\t},\n\t\t\t{\n\t\t\t\t\"x\": 95,\n\t\t\t\t\"y\": 210\n\t\t\t}\n\t\t],\n\t\t\"label\": \" \",\n\t\t\"id\": \" \"\n\t},\n\t{\n\t\t\"text\": \"김 광 열 과장 : 수미납개발팀 빌링담당 고객서비스본부 13606 경기도 성남시 분당구 불정로 90\",\n\t\t\"box\": [\n\t\t\t{\n\t\t\t\t\"x\": 523,\n\t\t\t\t\"y\": 321\n\t\t\t},\n\t\t\t{\n\t\t\t\t\"x\": 1128,\n\t\t\t\t\"y\": 321\n\t\t\t},\n\t\t\t{\n\t\t\t\t\"x\": 1128,\n\t\t\t\t\"y\": 570\n\t\t\t},\n\t\t\t{\n\t\t\t\t\"x\": 523,\n\t\t\t\t\"y\": 570\n\t\t\t}\n\t\t],\n\t\t\"label\": \" \",\n\t\t\"id\": \" \"\n\t},\n\t{\n\t\t\"text\": \"E jake.kim@kt.com\",\n\t\t\"box\": [\n\t\t\t{\n\t\t\t\t\"x\": 938,\n\t\t\t\t\"y\": 622\n\t\t\t},\n\t\t\t{\n\t\t\t\t\"x\": 1254,\n\t\t\t\t\"y\": 622\n\t\t\t},\n\t\t\t{\n\t\t\t\t\"x\": 1254,\n\t\t\t\t\"y\": 674\n\t\t\t},\n\t\t\t{\n\t\t\t\t\"x\": 938,\n\t\t\t\t\"y\": 674\n\t\t\t}\n\t\t],\n\t\t\"label\": \" \",\n\t\t\"id\": \" \"\n\t},\n\t{\n\t\t\"text\": \"M 010-4545-6221\",\n\t\t\"box\": [\n\t\t\t{\n\t\t\t\t\"x\": 529,\n\t\t\t\t\"y\": 626\n\t\t\t},\n\t\t\t{\n\t\t\t\t\"x\": 828,\n\t\t\t\t\"y\": 626\n\t\t\t},\n\t\t\t{\n\t\t\t\t\"x\": 828,\n\t\t\t\t\"y\": 669\n\t\t\t},\n\t\t\t{\n\t\t\t\t\"x\": 529,\n\t\t\t\t\"y\": 669\n\t\t\t}\n\t\t],\n\t\t\"label\": \" \",\n\t\t\"id\": \" \"\n\t},\n\t{\n\t\t\"text\": \"H www.ktds.com\",\n\t\t\"box\": [\n\t\t\t{\n\t\t\t\t\"x\": 532,\n\t\t\t\t\"y\": 689\n\t\t\t},\n\t\t\t{\n\t\t\t\t\"x\": 827,\n\t\t\t\t\"y\": 689\n\t\t\t},\n\t\t\t{\n\t\t\t\t\"x\": 827,\n\t\t\t\t\"y\": 729\n\t\t\t},\n\t\t\t{\n\t\t\t\t\"x\": 532,\n\t\t\t\t\"y\": 729\n\t\t\t}\n\t\t],\n\t\t\"label\": \" \",\n\t\t\"id\": \" \"\n\t}\n]\n"
     ]
    }
   ],
   "source": [
    "print(json.dumps(listA, ensure_ascii=False, indent=\"\\t\"))"
   ]
  },
  {
   "cell_type": "code",
   "execution_count": 131,
   "metadata": {},
   "outputs": [],
   "source": [
    "with open('./source/words_jeewoo.json', 'w', encoding = \"utf-8\") as make_file:\n",
    "    json.dump(listA, make_file, ensure_ascii=False, indent='\\t')"
   ]
  },
  {
   "cell_type": "code",
   "execution_count": null,
   "metadata": {},
   "outputs": [],
   "source": []
  }
 ]
}