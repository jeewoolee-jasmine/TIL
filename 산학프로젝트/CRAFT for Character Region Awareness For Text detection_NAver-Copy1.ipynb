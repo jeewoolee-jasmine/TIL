{
 "cells": [
  {
   "cell_type": "markdown",
   "metadata": {},
   "source": [
    "기존에 있는 word-level bounding boxs  를 변형한 것으로\n",
    "\n",
    "text area를 연관성을 고려하여 효과적으로 detaction 할 수 있는 것이\n",
    "포인트다."
   ]
  },
  {
   "cell_type": "markdown",
   "metadata": {},
   "source": [
    "1. 이 논문이 나오게 된계기 \n",
    "\n",
    "These methods mainly train their networks to localize wordlevel bounding boxes. However, they may suffer in difficultcases, such as texts that are curved, deformed, or extremely long, which are hard to detect with a single bounding box.\n"
   ]
  },
  {
   "cell_type": "markdown",
   "metadata": {},
   "source": [
    "# Text Detaction"
   ]
  },
  {
   "cell_type": "markdown",
   "metadata": {},
   "source": [
    "1. region score\n",
    "2. affinity score\n",
    "\n",
    "2가지의 척도를 이용한다. "
   ]
  }
 ],
 "metadata": {
  "kernelspec": {
   "display_name": "Python 3",
   "language": "python",
   "name": "python3"
  },
  "language_info": {
   "codemirror_mode": {
    "name": "ipython",
    "version": 3
   },
   "file_extension": ".py",
   "mimetype": "text/x-python",
   "name": "python",
   "nbconvert_exporter": "python",
   "pygments_lexer": "ipython3",
   "version": "3.8.5"
  }
 },
 "nbformat": 4,
 "nbformat_minor": 4
}
