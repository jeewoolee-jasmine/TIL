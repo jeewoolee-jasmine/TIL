{
 "cells": [
  {
   "cell_type": "code",
   "execution_count": 65,
   "metadata": {},
   "outputs": [],
   "source": [
    "from selenium import webdriver as wd\n",
    "from selenium.webdriver.common.keys import Keys\n",
    "import time\n",
    "from bs4 import BeautifulSoup\n",
    "\n",
    "driver= wd.Chrome(\"chromedriver.exe\")\n",
    "driver.get(\"https://www.youtube.com/channel/UCyn-K7rZLXjGl7VXGweIlcA/videos\")\n",
    "scroll_time = 1 \n",
    "body = driver.find_element_by_tag_name(\"body\")"
   ]
  },
  {
   "cell_type": "code",
   "execution_count": 66,
   "metadata": {},
   "outputs": [
    {
     "name": "stdout",
     "output_type": "stream",
     "text": [
      "last_page: 2355\n",
      "new_page: 17656\n",
      "last_page: 17656\n",
      "new_page: 17656\n"
     ]
    }
   ],
   "source": [
    "while True:\n",
    "    last = driver.execute_script(\"return document.documentElement.scrollHeight\")\n",
    "    print(\"last_page:\", last)  \n",
    "    \n",
    "    for i in range(10):\n",
    "        body.send_keys(Keys.END)\n",
    "        time.sleep(scroll_time)\n",
    "    \n",
    "    new = driver.execute_script(\"return document.documentElement.scrollHeight\")\n",
    "    print(\"new_page:\", new)\n",
    "    \n",
    "    if new == last:\n",
    "        break \n",
    "        "
   ]
  },
  {
   "cell_type": "code",
   "execution_count": 67,
   "metadata": {},
   "outputs": [],
   "source": [
    "page = driver.page_source\n",
    "soup = BeautifulSoup(page, 'html.parser')\n",
    "all_video = soup.find_all(id=\"dismissible\")"
   ]
  },
  {
   "cell_type": "code",
   "execution_count": 68,
   "metadata": {},
   "outputs": [],
   "source": [
    "title_list= []\n",
    "for video in all_video:\n",
    "    title=video.find(id=\"video-title\")\n",
    "    title_list.append(title.text.strip())\n",
    "\n",
    "    \n",
    "video_time_list= []\n",
    "for video in all_video:\n",
    "    video_time = video.find(\"span\", {\"class\":\"style-scope ytd-thumbnail-overlay-time-status-renderer\"})\n",
    "    video_time_list.append(video_time.text.strip())\n",
    "    \n",
    "    \n",
    "view_num_type_list =[]\n",
    "for view in view_num_list:\n",
    "    view= view.replace(\"조회수\", \"\")\n",
    "    num=float(view[:-2])\n",
    "    a=view[-2:]\n",
    "    if a ==\"만회\":\n",
    "        view_num_type_list.append(int(num*10000))\n",
    "        \n",
    "    else:\n",
    "        view_num_type_list.append(int(num*1000))\n",
    "        \n",
    "        "
   ]
  },
  {
   "cell_type": "code",
   "execution_count": 69,
   "metadata": {},
   "outputs": [],
   "source": [
    "dict_youtube = {\"title\": title_list, \"time\":video_time_list, \"view_num\": view_num_type_list }"
   ]
  },
  {
   "cell_type": "code",
   "execution_count": 87,
   "metadata": {},
   "outputs": [
    {
     "data": {
      "text/html": [
       "<div>\n",
       "<style scoped>\n",
       "    .dataframe tbody tr th:only-of-type {\n",
       "        vertical-align: middle;\n",
       "    }\n",
       "\n",
       "    .dataframe tbody tr th {\n",
       "        vertical-align: top;\n",
       "    }\n",
       "\n",
       "    .dataframe thead th {\n",
       "        text-align: right;\n",
       "    }\n",
       "</style>\n",
       "<table border=\"1\" class=\"dataframe\">\n",
       "  <thead>\n",
       "    <tr style=\"text-align: right;\">\n",
       "      <th></th>\n",
       "      <th>title</th>\n",
       "      <th>time</th>\n",
       "      <th>view_num</th>\n",
       "      <th>view_num_summary</th>\n",
       "    </tr>\n",
       "  </thead>\n",
       "  <tbody>\n",
       "    <tr>\n",
       "      <th>0</th>\n",
       "      <td>감자탕! 돼지등뼈 없이도 가능해요 (feat. 찍어먹는 겨자 소스 만들기)</td>\n",
       "      <td>12:08</td>\n",
       "      <td>220000</td>\n",
       "      <td>0</td>\n",
       "    </tr>\n",
       "    <tr>\n",
       "      <th>1</th>\n",
       "      <td>🧄마늘은 많이 많이!🧄알리오올리오 떡볶이</td>\n",
       "      <td>9:21</td>\n",
       "      <td>260000</td>\n",
       "      <td>0</td>\n",
       "    </tr>\n",
       "    <tr>\n",
       "      <th>2</th>\n",
       "      <td>크림 없이 크림새우, 어떻게 만들까요? 재료 간단, 만드는 법은 더 간단!</td>\n",
       "      <td>10:26</td>\n",
       "      <td>430000</td>\n",
       "      <td>0</td>\n",
       "    </tr>\n",
       "    <tr>\n",
       "      <th>3</th>\n",
       "      <td>'부'대찌개맛 '뿌'햄라면</td>\n",
       "      <td>5:25</td>\n",
       "      <td>580000</td>\n",
       "      <td>0</td>\n",
       "    </tr>\n",
       "    <tr>\n",
       "      <th>4</th>\n",
       "      <td>이 카레의 주인공은 '고기'입니다. 고기 듬뿍 뒷다릿살 카레</td>\n",
       "      <td>11:23</td>\n",
       "      <td>500000</td>\n",
       "      <td>0</td>\n",
       "    </tr>\n",
       "    <tr>\n",
       "      <th>...</th>\n",
       "      <td>...</td>\n",
       "      <td>...</td>\n",
       "      <td>...</td>\n",
       "      <td>...</td>\n",
       "    </tr>\n",
       "    <tr>\n",
       "      <th>295</th>\n",
       "      <td>[안녕하세요 백종원입니다-5] 장사이야기! 제가 정답이 아닙니다</td>\n",
       "      <td>2:16</td>\n",
       "      <td>330000</td>\n",
       "      <td>0</td>\n",
       "    </tr>\n",
       "    <tr>\n",
       "      <th>296</th>\n",
       "      <td>[안녕하세요 백종원입니다-4] 제대로 된 한식 레시피, 이렇게 알리고 싶었습니다</td>\n",
       "      <td>4:39</td>\n",
       "      <td>530000</td>\n",
       "      <td>0</td>\n",
       "    </tr>\n",
       "    <tr>\n",
       "      <th>297</th>\n",
       "      <td>[안녕하세요 백종원입니다-3] 제 전문적 지식은 한참 아래입니다</td>\n",
       "      <td>1:31</td>\n",
       "      <td>510000</td>\n",
       "      <td>0</td>\n",
       "    </tr>\n",
       "    <tr>\n",
       "      <th>298</th>\n",
       "      <td>[안녕하세요 백종원입니다-2] 요리에 자신감을 드리고 싶었습니다</td>\n",
       "      <td>1:35</td>\n",
       "      <td>670000</td>\n",
       "      <td>0</td>\n",
       "    </tr>\n",
       "    <tr>\n",
       "      <th>299</th>\n",
       "      <td>[안녕하세요 백종원입니다-1] 제가 유튜브를 시작하게 된 계기는요..</td>\n",
       "      <td>1:17</td>\n",
       "      <td>3090000</td>\n",
       "      <td>0</td>\n",
       "    </tr>\n",
       "  </tbody>\n",
       "</table>\n",
       "<p>300 rows × 4 columns</p>\n",
       "</div>"
      ],
      "text/plain": [
       "                                            title   time  view_num  \\\n",
       "0       감자탕! 돼지등뼈 없이도 가능해요 (feat. 찍어먹는 겨자 소스 만들기)  12:08    220000   \n",
       "1                          🧄마늘은 많이 많이!🧄알리오올리오 떡볶이   9:21    260000   \n",
       "2       크림 없이 크림새우, 어떻게 만들까요? 재료 간단, 만드는 법은 더 간단!  10:26    430000   \n",
       "3                                  '부'대찌개맛 '뿌'햄라면   5:25    580000   \n",
       "4               이 카레의 주인공은 '고기'입니다. 고기 듬뿍 뒷다릿살 카레  11:23    500000   \n",
       "..                                            ...    ...       ...   \n",
       "295           [안녕하세요 백종원입니다-5] 장사이야기! 제가 정답이 아닙니다   2:16    330000   \n",
       "296  [안녕하세요 백종원입니다-4] 제대로 된 한식 레시피, 이렇게 알리고 싶었습니다   4:39    530000   \n",
       "297           [안녕하세요 백종원입니다-3] 제 전문적 지식은 한참 아래입니다   1:31    510000   \n",
       "298           [안녕하세요 백종원입니다-2] 요리에 자신감을 드리고 싶었습니다   1:35    670000   \n",
       "299        [안녕하세요 백종원입니다-1] 제가 유튜브를 시작하게 된 계기는요..   1:17   3090000   \n",
       "\n",
       "     view_num_summary  \n",
       "0                   0  \n",
       "1                   0  \n",
       "2                   0  \n",
       "3                   0  \n",
       "4                   0  \n",
       "..                ...  \n",
       "295                 0  \n",
       "296                 0  \n",
       "297                 0  \n",
       "298                 0  \n",
       "299                 0  \n",
       "\n",
       "[300 rows x 4 columns]"
      ]
     },
     "execution_count": 87,
     "metadata": {},
     "output_type": "execute_result"
    }
   ],
   "source": [
    "import pandas as pd\n",
    "final_one= pd.DataFrame(dict_youtube)\n",
    "final_one"
   ]
  },
  {
   "cell_type": "markdown",
   "metadata": {},
   "source": [
    "# ======================================"
   ]
  },
  {
   "cell_type": "code",
   "execution_count": 71,
   "metadata": {},
   "outputs": [
    {
     "name": "stderr",
     "output_type": "stream",
     "text": [
      "C:\\Users\\Admin\\anaconda3\\lib\\site-packages\\konlpy\\tag\\_okt.py:16: UserWarning: \"Twitter\" has changed to \"Okt\" since KoNLPy v0.4.5.\n",
      "  warn('\"Twitter\" has changed to \"Okt\" since KoNLPy v0.4.5.')\n"
     ]
    }
   ],
   "source": [
    "from konlpy.tag import Twitter  # 한국어 사용 가능 라이브러리 설치\n",
    "twit=Twitter()"
   ]
  },
  {
   "cell_type": "code",
   "execution_count": 72,
   "metadata": {},
   "outputs": [],
   "source": [
    "import numpy as np\n",
    "import pandas as pd\n",
    "import matplotlib.pyplot as plt \n",
    "import seaborn as sns             # 그래프 화  라이브러리 설치\n",
    "from matplotlib import font_manager, rc"
   ]
  },
  {
   "cell_type": "markdown",
   "metadata": {},
   "source": [
    "한글 글씨 폰드트가 저장되어 있는 경로 불러오기 "
   ]
  },
  {
   "cell_type": "code",
   "execution_count": 88,
   "metadata": {},
   "outputs": [],
   "source": [
    "font_name = font_manager.FontProperties(fname=\"c:/Windows/Fonts/malgun.ttf\").get_name()\n",
    "rc('font', family=font_name)                                       "
   ]
  },
  {
   "cell_type": "markdown",
   "metadata": {},
   "source": [
    "# 이제부터 시각화 할 컬럼을 생성해서, 기존에 있던 컬럼 값들을 수치화 시키자"
   ]
  },
  {
   "cell_type": "code",
   "execution_count": 89,
   "metadata": {
    "scrolled": true
   },
   "outputs": [],
   "source": [
    "final_one['view_num_summary']=0    # 새로운 칼럼 생성하기"
   ]
  },
  {
   "cell_type": "code",
   "execution_count": 90,
   "metadata": {},
   "outputs": [
    {
     "data": {
      "text/html": [
       "<div>\n",
       "<style scoped>\n",
       "    .dataframe tbody tr th:only-of-type {\n",
       "        vertical-align: middle;\n",
       "    }\n",
       "\n",
       "    .dataframe tbody tr th {\n",
       "        vertical-align: top;\n",
       "    }\n",
       "\n",
       "    .dataframe thead th {\n",
       "        text-align: right;\n",
       "    }\n",
       "</style>\n",
       "<table border=\"1\" class=\"dataframe\">\n",
       "  <thead>\n",
       "    <tr style=\"text-align: right;\">\n",
       "      <th></th>\n",
       "      <th>title</th>\n",
       "      <th>time</th>\n",
       "      <th>view_num</th>\n",
       "      <th>view_num_summary</th>\n",
       "    </tr>\n",
       "  </thead>\n",
       "  <tbody>\n",
       "    <tr>\n",
       "      <th>0</th>\n",
       "      <td>감자탕! 돼지등뼈 없이도 가능해요 (feat. 찍어먹는 겨자 소스 만들기)</td>\n",
       "      <td>12:08</td>\n",
       "      <td>220000</td>\n",
       "      <td>0</td>\n",
       "    </tr>\n",
       "    <tr>\n",
       "      <th>1</th>\n",
       "      <td>🧄마늘은 많이 많이!🧄알리오올리오 떡볶이</td>\n",
       "      <td>9:21</td>\n",
       "      <td>260000</td>\n",
       "      <td>0</td>\n",
       "    </tr>\n",
       "    <tr>\n",
       "      <th>2</th>\n",
       "      <td>크림 없이 크림새우, 어떻게 만들까요? 재료 간단, 만드는 법은 더 간단!</td>\n",
       "      <td>10:26</td>\n",
       "      <td>430000</td>\n",
       "      <td>0</td>\n",
       "    </tr>\n",
       "    <tr>\n",
       "      <th>3</th>\n",
       "      <td>'부'대찌개맛 '뿌'햄라면</td>\n",
       "      <td>5:25</td>\n",
       "      <td>580000</td>\n",
       "      <td>0</td>\n",
       "    </tr>\n",
       "    <tr>\n",
       "      <th>4</th>\n",
       "      <td>이 카레의 주인공은 '고기'입니다. 고기 듬뿍 뒷다릿살 카레</td>\n",
       "      <td>11:23</td>\n",
       "      <td>500000</td>\n",
       "      <td>0</td>\n",
       "    </tr>\n",
       "    <tr>\n",
       "      <th>...</th>\n",
       "      <td>...</td>\n",
       "      <td>...</td>\n",
       "      <td>...</td>\n",
       "      <td>...</td>\n",
       "    </tr>\n",
       "    <tr>\n",
       "      <th>295</th>\n",
       "      <td>[안녕하세요 백종원입니다-5] 장사이야기! 제가 정답이 아닙니다</td>\n",
       "      <td>2:16</td>\n",
       "      <td>330000</td>\n",
       "      <td>0</td>\n",
       "    </tr>\n",
       "    <tr>\n",
       "      <th>296</th>\n",
       "      <td>[안녕하세요 백종원입니다-4] 제대로 된 한식 레시피, 이렇게 알리고 싶었습니다</td>\n",
       "      <td>4:39</td>\n",
       "      <td>530000</td>\n",
       "      <td>0</td>\n",
       "    </tr>\n",
       "    <tr>\n",
       "      <th>297</th>\n",
       "      <td>[안녕하세요 백종원입니다-3] 제 전문적 지식은 한참 아래입니다</td>\n",
       "      <td>1:31</td>\n",
       "      <td>510000</td>\n",
       "      <td>0</td>\n",
       "    </tr>\n",
       "    <tr>\n",
       "      <th>298</th>\n",
       "      <td>[안녕하세요 백종원입니다-2] 요리에 자신감을 드리고 싶었습니다</td>\n",
       "      <td>1:35</td>\n",
       "      <td>670000</td>\n",
       "      <td>0</td>\n",
       "    </tr>\n",
       "    <tr>\n",
       "      <th>299</th>\n",
       "      <td>[안녕하세요 백종원입니다-1] 제가 유튜브를 시작하게 된 계기는요..</td>\n",
       "      <td>1:17</td>\n",
       "      <td>3090000</td>\n",
       "      <td>0</td>\n",
       "    </tr>\n",
       "  </tbody>\n",
       "</table>\n",
       "<p>300 rows × 4 columns</p>\n",
       "</div>"
      ],
      "text/plain": [
       "                                            title   time  view_num  \\\n",
       "0       감자탕! 돼지등뼈 없이도 가능해요 (feat. 찍어먹는 겨자 소스 만들기)  12:08    220000   \n",
       "1                          🧄마늘은 많이 많이!🧄알리오올리오 떡볶이   9:21    260000   \n",
       "2       크림 없이 크림새우, 어떻게 만들까요? 재료 간단, 만드는 법은 더 간단!  10:26    430000   \n",
       "3                                  '부'대찌개맛 '뿌'햄라면   5:25    580000   \n",
       "4               이 카레의 주인공은 '고기'입니다. 고기 듬뿍 뒷다릿살 카레  11:23    500000   \n",
       "..                                            ...    ...       ...   \n",
       "295           [안녕하세요 백종원입니다-5] 장사이야기! 제가 정답이 아닙니다   2:16    330000   \n",
       "296  [안녕하세요 백종원입니다-4] 제대로 된 한식 레시피, 이렇게 알리고 싶었습니다   4:39    530000   \n",
       "297           [안녕하세요 백종원입니다-3] 제 전문적 지식은 한참 아래입니다   1:31    510000   \n",
       "298           [안녕하세요 백종원입니다-2] 요리에 자신감을 드리고 싶었습니다   1:35    670000   \n",
       "299        [안녕하세요 백종원입니다-1] 제가 유튜브를 시작하게 된 계기는요..   1:17   3090000   \n",
       "\n",
       "     view_num_summary  \n",
       "0                   0  \n",
       "1                   0  \n",
       "2                   0  \n",
       "3                   0  \n",
       "4                   0  \n",
       "..                ...  \n",
       "295                 0  \n",
       "296                 0  \n",
       "297                 0  \n",
       "298                 0  \n",
       "299                 0  \n",
       "\n",
       "[300 rows x 4 columns]"
      ]
     },
     "execution_count": 90,
     "metadata": {},
     "output_type": "execute_result"
    }
   ],
   "source": [
    "final_one"
   ]
  },
  {
   "cell_type": "markdown",
   "metadata": {},
   "source": [
    "조건에 맞는 컬럼값들을 숫자로 형상화, \n",
    "view_num 은 조회수를 뜻하며, 조건에 따라 50만 100만 그이상으로 분류 "
   ]
  },
  {
   "cell_type": "code",
   "execution_count": 95,
   "metadata": {},
   "outputs": [
    {
     "name": "stderr",
     "output_type": "stream",
     "text": [
      "<ipython-input-95-dd14fdda264d>:3: SettingWithCopyWarning: \n",
      "A value is trying to be set on a copy of a slice from a DataFrame\n",
      "\n",
      "See the caveats in the documentation: https://pandas.pydata.org/pandas-docs/stable/user_guide/indexing.html#returning-a-view-versus-a-copy\n",
      "  final_one['view_num_summary'][index]=0\n",
      "<ipython-input-95-dd14fdda264d>:5: SettingWithCopyWarning: \n",
      "A value is trying to be set on a copy of a slice from a DataFrame\n",
      "\n",
      "See the caveats in the documentation: https://pandas.pydata.org/pandas-docs/stable/user_guide/indexing.html#returning-a-view-versus-a-copy\n",
      "  final_one['view_num_summary'][index]=1\n",
      "<ipython-input-95-dd14fdda264d>:7: SettingWithCopyWarning: \n",
      "A value is trying to be set on a copy of a slice from a DataFrame\n",
      "\n",
      "See the caveats in the documentation: https://pandas.pydata.org/pandas-docs/stable/user_guide/indexing.html#returning-a-view-versus-a-copy\n",
      "  final_one['view_num_summary'][index]=2\n"
     ]
    }
   ],
   "source": [
    "for index in range(len(final_one)):\n",
    "    if final_one[\"view_num\"][index] < 500000:\n",
    "        final_one['view_num_summary'][index]=0\n",
    "    elif final_one[\"view_num\"][index] < 1000000:\n",
    "        final_one['view_num_summary'][index]=1\n",
    "    else:\n",
    "        final_one['view_num_summary'][index]=2"
   ]
  },
  {
   "cell_type": "code",
   "execution_count": 96,
   "metadata": {},
   "outputs": [
    {
     "data": {
      "text/plain": [
       "0      0\n",
       "1      0\n",
       "2      0\n",
       "3      1\n",
       "4      1\n",
       "      ..\n",
       "295    0\n",
       "296    1\n",
       "297    1\n",
       "298    1\n",
       "299    2\n",
       "Name: view_num_summary, Length: 300, dtype: int64"
      ]
     },
     "execution_count": 96,
     "metadata": {},
     "output_type": "execute_result"
    }
   ],
   "source": [
    "final_one['view_num_summary']    # 잘 분류가 되었는 지 확인하기 "
   ]
  },
  {
   "cell_type": "code",
   "execution_count": 97,
   "metadata": {},
   "outputs": [
    {
     "data": {
      "text/html": [
       "<div>\n",
       "<style scoped>\n",
       "    .dataframe tbody tr th:only-of-type {\n",
       "        vertical-align: middle;\n",
       "    }\n",
       "\n",
       "    .dataframe tbody tr th {\n",
       "        vertical-align: top;\n",
       "    }\n",
       "\n",
       "    .dataframe thead th {\n",
       "        text-align: right;\n",
       "    }\n",
       "</style>\n",
       "<table border=\"1\" class=\"dataframe\">\n",
       "  <thead>\n",
       "    <tr style=\"text-align: right;\">\n",
       "      <th></th>\n",
       "      <th>title</th>\n",
       "      <th>time</th>\n",
       "      <th>view_num</th>\n",
       "      <th>view_num_summary</th>\n",
       "    </tr>\n",
       "  </thead>\n",
       "  <tbody>\n",
       "    <tr>\n",
       "      <th>0</th>\n",
       "      <td>감자탕! 돼지등뼈 없이도 가능해요 (feat. 찍어먹는 겨자 소스 만들기)</td>\n",
       "      <td>12:08</td>\n",
       "      <td>220000</td>\n",
       "      <td>0</td>\n",
       "    </tr>\n",
       "    <tr>\n",
       "      <th>1</th>\n",
       "      <td>🧄마늘은 많이 많이!🧄알리오올리오 떡볶이</td>\n",
       "      <td>9:21</td>\n",
       "      <td>260000</td>\n",
       "      <td>0</td>\n",
       "    </tr>\n",
       "    <tr>\n",
       "      <th>2</th>\n",
       "      <td>크림 없이 크림새우, 어떻게 만들까요? 재료 간단, 만드는 법은 더 간단!</td>\n",
       "      <td>10:26</td>\n",
       "      <td>430000</td>\n",
       "      <td>0</td>\n",
       "    </tr>\n",
       "    <tr>\n",
       "      <th>3</th>\n",
       "      <td>'부'대찌개맛 '뿌'햄라면</td>\n",
       "      <td>5:25</td>\n",
       "      <td>580000</td>\n",
       "      <td>1</td>\n",
       "    </tr>\n",
       "    <tr>\n",
       "      <th>4</th>\n",
       "      <td>이 카레의 주인공은 '고기'입니다. 고기 듬뿍 뒷다릿살 카레</td>\n",
       "      <td>11:23</td>\n",
       "      <td>500000</td>\n",
       "      <td>1</td>\n",
       "    </tr>\n",
       "    <tr>\n",
       "      <th>...</th>\n",
       "      <td>...</td>\n",
       "      <td>...</td>\n",
       "      <td>...</td>\n",
       "      <td>...</td>\n",
       "    </tr>\n",
       "    <tr>\n",
       "      <th>295</th>\n",
       "      <td>[안녕하세요 백종원입니다-5] 장사이야기! 제가 정답이 아닙니다</td>\n",
       "      <td>2:16</td>\n",
       "      <td>330000</td>\n",
       "      <td>0</td>\n",
       "    </tr>\n",
       "    <tr>\n",
       "      <th>296</th>\n",
       "      <td>[안녕하세요 백종원입니다-4] 제대로 된 한식 레시피, 이렇게 알리고 싶었습니다</td>\n",
       "      <td>4:39</td>\n",
       "      <td>530000</td>\n",
       "      <td>1</td>\n",
       "    </tr>\n",
       "    <tr>\n",
       "      <th>297</th>\n",
       "      <td>[안녕하세요 백종원입니다-3] 제 전문적 지식은 한참 아래입니다</td>\n",
       "      <td>1:31</td>\n",
       "      <td>510000</td>\n",
       "      <td>1</td>\n",
       "    </tr>\n",
       "    <tr>\n",
       "      <th>298</th>\n",
       "      <td>[안녕하세요 백종원입니다-2] 요리에 자신감을 드리고 싶었습니다</td>\n",
       "      <td>1:35</td>\n",
       "      <td>670000</td>\n",
       "      <td>1</td>\n",
       "    </tr>\n",
       "    <tr>\n",
       "      <th>299</th>\n",
       "      <td>[안녕하세요 백종원입니다-1] 제가 유튜브를 시작하게 된 계기는요..</td>\n",
       "      <td>1:17</td>\n",
       "      <td>3090000</td>\n",
       "      <td>2</td>\n",
       "    </tr>\n",
       "  </tbody>\n",
       "</table>\n",
       "<p>300 rows × 4 columns</p>\n",
       "</div>"
      ],
      "text/plain": [
       "                                            title   time  view_num  \\\n",
       "0       감자탕! 돼지등뼈 없이도 가능해요 (feat. 찍어먹는 겨자 소스 만들기)  12:08    220000   \n",
       "1                          🧄마늘은 많이 많이!🧄알리오올리오 떡볶이   9:21    260000   \n",
       "2       크림 없이 크림새우, 어떻게 만들까요? 재료 간단, 만드는 법은 더 간단!  10:26    430000   \n",
       "3                                  '부'대찌개맛 '뿌'햄라면   5:25    580000   \n",
       "4               이 카레의 주인공은 '고기'입니다. 고기 듬뿍 뒷다릿살 카레  11:23    500000   \n",
       "..                                            ...    ...       ...   \n",
       "295           [안녕하세요 백종원입니다-5] 장사이야기! 제가 정답이 아닙니다   2:16    330000   \n",
       "296  [안녕하세요 백종원입니다-4] 제대로 된 한식 레시피, 이렇게 알리고 싶었습니다   4:39    530000   \n",
       "297           [안녕하세요 백종원입니다-3] 제 전문적 지식은 한참 아래입니다   1:31    510000   \n",
       "298           [안녕하세요 백종원입니다-2] 요리에 자신감을 드리고 싶었습니다   1:35    670000   \n",
       "299        [안녕하세요 백종원입니다-1] 제가 유튜브를 시작하게 된 계기는요..   1:17   3090000   \n",
       "\n",
       "     view_num_summary  \n",
       "0                   0  \n",
       "1                   0  \n",
       "2                   0  \n",
       "3                   1  \n",
       "4                   1  \n",
       "..                ...  \n",
       "295                 0  \n",
       "296                 1  \n",
       "297                 1  \n",
       "298                 1  \n",
       "299                 2  \n",
       "\n",
       "[300 rows x 4 columns]"
      ]
     },
     "execution_count": 97,
     "metadata": {},
     "output_type": "execute_result"
    }
   ],
   "source": [
    "final_one   # 한번더 체크, 인덱스3번은 5만 이상이니 서머리가 1인 걸 볼 수 있다."
   ]
  },
  {
   "cell_type": "markdown",
   "metadata": {},
   "source": [
    "# 모든 데이터 들 중 학습용,테스트용 데이터 분리해주는 라이브러리 설치"
   ]
  },
  {
   "cell_type": "code",
   "execution_count": 98,
   "metadata": {},
   "outputs": [],
   "source": [
    "from sklearn.model_selection import train_test_split"
   ]
  },
  {
   "cell_type": "markdown",
   "metadata": {},
   "source": [
    "그래프의 X축과 Y축, 그리고 학습용,테스트용 할당해주기\n",
    "\n",
    "여기서 설정한건, <타이틀>을 입력하여, <조회수>를 예측하는것."
   ]
  },
  {
   "cell_type": "code",
   "execution_count": 101,
   "metadata": {},
   "outputs": [],
   "source": [
    "x_train, x_test, y_train, y_test  = train_test_split(final_one['title'],final_one[\"view_num_summary\"])"
   ]
  },
  {
   "cell_type": "markdown",
   "metadata": {},
   "source": [
    "# 문장으로 된 것은 인식불가, 단어 단위로 분리하여 형태를 파악 해주기"
   ]
  },
  {
   "cell_type": "markdown",
   "metadata": {},
   "source": [
    "  문장요소 파악 함수만들기,  tagged =twitter.pos(text, stem=True)는 index[0]= 단어, index[1] 은 요소로 할당  ex> [index][0]='엄마', index[1]='Noun'"
   ]
  },
  {
   "cell_type": "code",
   "execution_count": 107,
   "metadata": {},
   "outputs": [],
   "source": [
    "def get_NounAndAdject(text):\n",
    "    stems=[]\n",
    "    tagged =twit.pos(text, stem=True)  \n",
    "    for i in range(0, len(tagged)):\n",
    "        if(tagged[i][1]=='Noun'or tagged[i][1]=='Adjective'):\n",
    "            stems.append(tagged[i][0])   # 인덱스1(요소)가 Noun, Adjective일때 stem list에 해당 인덱스0(단어)를 추가해아\n",
    "    return stems"
   ]
  },
  {
   "cell_type": "markdown",
   "metadata": {},
   "source": [
    " 아래 부분은, 위에서 조건이 할당된 단어들이 수치화 되는 과정이다.\n",
    " "
   ]
  },
  {
   "cell_type": "code",
   "execution_count": 108,
   "metadata": {},
   "outputs": [],
   "source": [
    "from sklearn.feature_extraction.text import TfidfVectorizer\n",
    "vectorizer = TfidfVectorizer(min_df=2, tokenizer= get_NounAndAdject)\n",
    "\n",
    "x_train_vector= vectorizer.fit_transform(x_train)\n",
    "x_test_vector=vectorizer.transform(x_test)  \n",
    "\n"
   ]
  },
  {
   "cell_type": "markdown",
   "metadata": {},
   "source": [
    "# 트리를 생성하자! FIT! PREDICT!"
   ]
  },
  {
   "cell_type": "markdown",
   "metadata": {},
   "source": [
    " 의사결정 나무를 불러오기 위해 심어주자."
   ]
  },
  {
   "cell_type": "code",
   "execution_count": 112,
   "metadata": {},
   "outputs": [],
   "source": [
    "from sklearn.tree import DecisionTreeClassifier\n",
    "df_train= DecisionTreeClassifier()"
   ]
  },
  {
   "cell_type": "code",
   "execution_count": 113,
   "metadata": {},
   "outputs": [],
   "source": [
    "df_train = df_clf.fit(x_train_vector, y_train) # fit 은 훈련 명령어\n",
    "df_predic = df_clf.predict(x_test_vector)       # predict 는 실전 "
   ]
  },
  {
   "cell_type": "code",
   "execution_count": 115,
   "metadata": {},
   "outputs": [
    {
     "data": {
      "text/plain": [
       "array([[ 5,  3, 11],\n",
       "       [ 3,  5, 17],\n",
       "       [ 1,  3, 27]], dtype=int64)"
      ]
     },
     "execution_count": 115,
     "metadata": {},
     "output_type": "execute_result"
    }
   ],
   "source": [
    "from sklearn.metrics import confusion_matrix\n",
    "confusion_matrix(y_test, df_predic)     # 이부분은 Numpy의 부분으로,2차원으로 보여줌"
   ]
  },
  {
   "cell_type": "code",
   "execution_count": 116,
   "metadata": {},
   "outputs": [],
   "source": [
    "from sklearn.metrics import accuracy_score\n",
    "\n",
    "accuracy = accuracy_score(y_test, df_predic)"
   ]
  },
  {
   "cell_type": "code",
   "execution_count": 117,
   "metadata": {},
   "outputs": [
    {
     "name": "stdout",
     "output_type": "stream",
     "text": [
      "정확도 : 0.49333%\n"
     ]
    }
   ],
   "source": [
    "print(f'정확도 : {np.round(accuracy,5)}%') "
   ]
  },
  {
   "cell_type": "code",
   "execution_count": null,
   "metadata": {},
   "outputs": [],
   "source": []
  }
 ],
 "metadata": {
  "kernelspec": {
   "display_name": "Python 3",
   "language": "python",
   "name": "python3"
  },
  "language_info": {
   "codemirror_mode": {
    "name": "ipython",
    "version": 3
   },
   "file_extension": ".py",
   "mimetype": "text/x-python",
   "name": "python",
   "nbconvert_exporter": "python",
   "pygments_lexer": "ipython3",
   "version": "3.8.5"
  }
 },
 "nbformat": 4,
 "nbformat_minor": 4
}
