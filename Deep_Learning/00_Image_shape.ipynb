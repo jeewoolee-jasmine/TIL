{
 "cells": [
  {
   "cell_type": "markdown",
   "metadata": {
    "id": "fOYzxftOXmAX"
   },
   "source": [
    "## 준비 실습. Image 살펴보기"
   ]
  },
  {
   "cell_type": "code",
   "execution_count": 5,
   "metadata": {
    "id": "nLeoB-14XmAa"
   },
   "outputs": [],
   "source": [
    "# 1. package 가져오기\n",
    "from PIL import  Image\n",
    "import numpy as np"
   ]
  },
  {
   "cell_type": "code",
   "execution_count": 3,
   "metadata": {
    "id": "te5YH6NZXmAv"
   },
   "outputs": [
    {
     "data": {
      "image/png": "[encoded data removed]",
      "text/plain": [
       "<PIL.PngImagePlugin.PngImageFile image mode=L size=28x28 at 0x7FF2E1E1F9A0>"
      ]
     },
     "execution_count": 3,
     "metadata": {},
     "output_type": "execute_result"
    }
   ],
   "source": [
    "# 2. 이미지 가져오기\n",
    "image_9 = Image.open('01image.png') # 이미지 객체인 상태 임. \n",
    "image_9"
   ]
  },
  {
   "cell_type": "code",
   "execution_count": 6,
   "metadata": {
    "id": "UpGe4Vf6XmA8"
   },
   "outputs": [
    {
     "name": "stdout",
     "output_type": "stream",
     "text": [
      "[[255 255 255 255 255 255 255 255 251 254 255 255 255 255 255 252 255 248\n",
      "  255 255 254 255 255 249 255 255 255 255]\n",
      " [255 255 255 255 255 255 255 255 255 255 253 249 249 253 255 255 254 255\n",
      "  255 248 249 255 255 251 255 255 255 255]\n",
      " [255 255 255 255 255 255 255 255 250 253 255 255 255 255 254 251 254 255\n",
      "  252 252 255 251 246 255 255 255 255 255]\n",
      " [255 255 255 255 255 255 255 255 255 255 253 251 250 249 251 255 254 253\n",
      "  252 255 255 249 245 251 255 255 255 255]\n",
      " [255 255 255 255 255 255 255 255 254 252 254 255 255 255 255 255 251 251\n",
      "  255 255 249 255 255 251 255 255 255 255]\n",
      " [255 255 255 255 255 255 255 255 255 255 255 255 255 246 243 247 255 250\n",
      "  251 255 246 247 254 248 255 255 255 255]\n",
      " [255 255 255 255 255 255 255 255 255 249 248 255 255 255 255 255 241 255\n",
      "  255 251 255 255 249 255 255 255 255 255]\n",
      " [255 255 255 255 255 255 255 255 255 255 255 250 199 116  39   0   9 142\n",
      "  157 121 193 255 252 250 255 255 255 255]\n",
      " [253 254 255 251 248 255 253 255 255 248 255 158  24  16   0  72  45   3\n",
      "    4   0 101 249 252 252 255 255 255 255]\n",
      " [255 249 255 255 253 255 254 255 255 242 199  24   0  52 204 249 241  81\n",
      "    1   0 131 255 243 255 255 255 255 255]\n",
      " [255 247 254 255 254 250 255 255 255 162   0   0  73 252 253 248 169   4\n",
      "    0  42 239 253 249 250 255 255 255 255]\n",
      " [255 251 255 255 251 245 255 232 116   0  29 101 236 251 255 251  38   0\n",
      "   10 172 255 253 251 254 255 255 255 255]\n",
      " [253 255 255 255 254 248 255 138  12   0  72 249 255 251 242 183  16  33\n",
      "  121 245 253 255 255 255 255 255 255 255]\n",
      " [255 255 250 250 255 254 231  32   2  88 255 251 250 234  42   0   0  64\n",
      "  250 251 255 254 255 248 255 255 255 255]\n",
      " [255 255 249 250 255 252 230   0   5 227 233 134  73   0   7  18  10 181\n",
      "  255 255 234 255 240 255 255 255 255 255]\n",
      " [253 255 255 255 255 245 245  22   0  10   4   0   3  33  32   0  31 255\n",
      "  236 255 255 255 255 255 255 255 255 255]\n",
      " [255 255 253 250 255 255 241 216  14   5  40 118 222 228  67   5 112 249\n",
      "  255 250 255 250 254 253 255 255 255 255]\n",
      " [252 255 255 253 255 255 252 238 255 248 255 255 240 194   0   0 156 255\n",
      "  254 244 255 249 255 255 255 255 255 255]\n",
      " [249 255 255 254 252 255 255 255 252 246 255 255 242 215   0  14 217 255\n",
      "  255 252 255 249 255 253 255 255 255 255]\n",
      " [251 255 255 253 250 253 255 255 255 255 255 255 255 237   1   0 243 255\n",
      "  254 255 255 251 255 250 255 255 255 255]\n",
      " [254 255 255 254 253 254 253 250 251 255 252 245 255 187   7  12 235 243\n",
      "  249 255 255 252 255 255 255 255 255 255]\n",
      " [255 254 254 255 255 255 255 252 255 255 255 255 255 151   0  13 237 250\n",
      "  255 255 254 252 255 255 255 255 255 255]\n",
      " [255 255 254 255 255 255 255 255 255 242 252 255 255 198   6   0 231 255\n",
      "  255 255 253 255 253 255 255 255 255 255]\n",
      " [255 255 255 255 252 251 253 255 255 251 255 255 249 255  36   0 202 244\n",
      "  255 248 254 255 251 253 255 255 255 255]\n",
      " [255 255 255 255 255 255 255 255 253 250 255 253 249 255 167   0  55 218\n",
      "  255 242 250 255 255 255 255 255 255 255]\n",
      " [255 255 255 255 255 255 255 255 255 251 255 252 251 255 214 104  22  69\n",
      "  255 250 255 250 244 255 255 255 255 255]\n",
      " [255 255 255 255 255 255 255 255 255 253 254 254 254 255 253 223  89  10\n",
      "  217 244 253 247 255 252 255 255 255 255]\n",
      " [255 255 255 255 255 255 255 255 254 255 255 255 255 253 255 255 255 255\n",
      "  255 255 255 254 238 248 255 255 255 255]]\n"
     ]
    }
   ],
   "source": [
    "# 3. 이미지 array로 변환하기\n",
    "\n",
    "array_9 = np.array(image_9)\n",
    "print(array_9)"
   ]
  },
  {
   "cell_type": "code",
   "execution_count": 8,
   "metadata": {
    "id": "_S9RVAejXmBG"
   },
   "outputs": [
    {
     "name": "stdout",
     "output_type": "stream",
     "text": [
      "(28, 28)\n"
     ]
    }
   ],
   "source": [
    "# 4. 이미지 살펴보기\n",
    "\n",
    "print(array_9.shape)\n",
    " # 가로 28 세로28 인 상태이며 흑백이라 채널이1 이라 생략이 되어 있음. # 케라스에서는 핟습이 불가능 \n",
    "    \n",
    "#Dense layer input (1차원이어애힘)\n",
    "#Convolutional layer input(3차원이어야힘)"
   ]
  },
  {
   "cell_type": "code",
   "execution_count": 10,
   "metadata": {
    "id": "D9OH-C_-XmBP"
   },
   "outputs": [],
   "source": [
    "# 5. 이미지 3차원 reshape\n",
    "array_9_3d = array_9.reshape(28,28,1)\n",
    "\n",
    "# 오리지널 픽셀의 갯수 는 28*28 \n",
    "#3차원일때의 픽셀의 갯수는 28*28*1 "
   ]
  },
  {
   "cell_type": "code",
   "execution_count": 17,
   "metadata": {
    "id": "r7RZi5z2XmBV"
   },
   "outputs": [],
   "source": [
    "# 6. 이미지 1차원 reshape\n",
    "array_9_1d= array_9.reshape(784,)"
   ]
  },
  {
   "cell_type": "code",
   "execution_count": 21,
   "metadata": {
    "id": "3ciUF7WKXmBY"
   },
   "outputs": [],
   "source": [
    "# 7. 이미지 resize\n",
    "import matplotlib.pyplot as plt"
   ]
  },
  {
   "cell_type": "code",
   "execution_count": 26,
   "metadata": {
    "scrolled": true
   },
   "outputs": [
    {
     "data": {
      "text/plain": [
       "<matplotlib.image.AxesImage at 0x7ff2a151a4c0>"
      ]
     },
     "execution_count": 26,
     "metadata": {},
     "output_type": "execute_result"
    },
    {
     "data": {
      "image/png": "[encoded data removed]",
      "text/plain": [
       "<Figure size 432x288 with 1 Axes>"
      ]
     },
     "metadata": {
      "needs_background": "light"
     },
     "output_type": "display_data"
    }
   ],
   "source": [
    "plt.imshow(array_9, cmap=plt.cm.gray)"
   ]
  },
  {
   "cell_type": "code",
   "execution_count": 27,
   "metadata": {},
   "outputs": [
    {
     "data": {
      "text/plain": [
       "<matplotlib.image.AxesImage at 0x7ff2a14ebd60>"
      ]
     },
     "execution_count": 27,
     "metadata": {},
     "output_type": "execute_result"
    },
    {
     "data": {
      "image/png": "[encoded data removed]",
      "text/plain": [
       "<Figure size 432x288 with 1 Axes>"
      ]
     },
     "metadata": {
      "needs_background": "light"
     },
     "output_type": "display_data"
    }
   ],
   "source": [
    "plt.imshow(array_9_3d, cmap=plt.cm.gray)"
   ]
  },
  {
   "cell_type": "code",
   "execution_count": 19,
   "metadata": {},
   "outputs": [
    {
     "name": "stdout",
     "output_type": "stream",
     "text": [
      "[255 255 255 255 255 255 255 255 251 254 255 255 255 255 255 252 255 248\n",
      " 255 255 254 255 255 249 255 255 255 255 255 255 255 255 255 255 255 255\n",
      " 255 255 253 249 249 253 255 255 254 255 255 248 249 255 255 251 255 255\n",
      " 255 255 255 255 255 255 255 255 255 255 250 253 255 255 255 255 254 251\n",
      " 254 255 252 252 255 251 246 255 255 255 255 255 255 255 255 255 255 255\n",
      " 255 255 255 255 253 251 250 249 251 255 254 253 252 255 255 249 245 251\n",
      " 255 255 255 255 255 255 255 255 255 255 255 255 254 252 254 255 255 255\n",
      " 255 255 251 251 255 255 249 255 255 251 255 255 255 255 255 255 255 255\n",
      " 255 255 255 255 255 255 255 255 255 246 243 247 255 250 251 255 246 247\n",
      " 254 248 255 255 255 255 255 255 255 255 255 255 255 255 255 249 248 255\n",
      " 255 255 255 255 241 255 255 251 255 255 249 255 255 255 255 255 255 255\n",
      " 255 255 255 255 255 255 255 255 255 250 199 116  39   0   9 142 157 121\n",
      " 193 255 252 250 255 255 255 255 253 254 255 251 248 255 253 255 255 248\n",
      " 255 158  24  16   0  72  45   3   4   0 101 249 252 252 255 255 255 255\n",
      " 255 249 255 255 253 255 254 255 255 242 199  24   0  52 204 249 241  81\n",
      "   1   0 131 255 243 255 255 255 255 255 255 247 254 255 254 250 255 255\n",
      " 255 162   0   0  73 252 253 248 169   4   0  42 239 253 249 250 255 255\n",
      " 255 255 255 251 255 255 251 245 255 232 116   0  29 101 236 251 255 251\n",
      "  38   0  10 172 255 253 251 254 255 255 255 255 253 255 255 255 254 248\n",
      " 255 138  12   0  72 249 255 251 242 183  16  33 121 245 253 255 255 255\n",
      " 255 255 255 255 255 255 250 250 255 254 231  32   2  88 255 251 250 234\n",
      "  42   0   0  64 250 251 255 254 255 248 255 255 255 255 255 255 249 250\n",
      " 255 252 230   0   5 227 233 134  73   0   7  18  10 181 255 255 234 255\n",
      " 240 255 255 255 255 255 253 255 255 255 255 245 245  22   0  10   4   0\n",
      "   3  33  32   0  31 255 236 255 255 255 255 255 255 255 255 255 255 255\n",
      " 253 250 255 255 241 216  14   5  40 118 222 228  67   5 112 249 255 250\n",
      " 255 250 254 253 255 255 255 255 252 255 255 253 255 255 252 238 255 248\n",
      " 255 255 240 194   0   0 156 255 254 244 255 249 255 255 255 255 255 255\n",
      " 249 255 255 254 252 255 255 255 252 246 255 255 242 215   0  14 217 255\n",
      " 255 252 255 249 255 253 255 255 255 255 251 255 255 253 250 253 255 255\n",
      " 255 255 255 255 255 237   1   0 243 255 254 255 255 251 255 250 255 255\n",
      " 255 255 254 255 255 254 253 254 253 250 251 255 252 245 255 187   7  12\n",
      " 235 243 249 255 255 252 255 255 255 255 255 255 255 254 254 255 255 255\n",
      " 255 252 255 255 255 255 255 151   0  13 237 250 255 255 254 252 255 255\n",
      " 255 255 255 255 255 255 254 255 255 255 255 255 255 242 252 255 255 198\n",
      "   6   0 231 255 255 255 253 255 253 255 255 255 255 255 255 255 255 255\n",
      " 252 251 253 255 255 251 255 255 249 255  36   0 202 244 255 248 254 255\n",
      " 251 253 255 255 255 255 255 255 255 255 255 255 255 255 253 250 255 253\n",
      " 249 255 167   0  55 218 255 242 250 255 255 255 255 255 255 255 255 255\n",
      " 255 255 255 255 255 255 255 251 255 252 251 255 214 104  22  69 255 250\n",
      " 255 250 244 255 255 255 255 255 255 255 255 255 255 255 255 255 255 253\n",
      " 254 254 254 255 253 223  89  10 217 244 253 247 255 252 255 255 255 255\n",
      " 255 255 255 255 255 255 255 255 254 255 255 255 255 253 255 255 255 255\n",
      " 255 255 255 254 238 248 255 255 255 255]\n"
     ]
    }
   ],
   "source": [
    "print(array_9_1d)"
   ]
  },
  {
   "cell_type": "code",
   "execution_count": 28,
   "metadata": {},
   "outputs": [],
   "source": [
    "import cv2"
   ]
  },
  {
   "cell_type": "code",
   "execution_count": 31,
   "metadata": {},
   "outputs": [
    {
     "name": "stdout",
     "output_type": "stream",
     "text": [
      "(10, 10)\n"
     ]
    }
   ],
   "source": [
    "image_9_cv =cv2.imread('01image.png')\n",
    "\n",
    "image_9_cv.resize(10,10)\n",
    "print(image_9_cv.shape)"
   ]
  },
  {
   "cell_type": "code",
   "execution_count": 32,
   "metadata": {
    "scrolled": true
   },
   "outputs": [
    {
     "data": {
      "text/plain": [
       "<matplotlib.image.AxesImage at 0x7ff2977b4bb0>"
      ]
     },
     "execution_count": 32,
     "metadata": {},
     "output_type": "execute_result"
    },
    {
     "data": {
      "image/png": "[encoded data removed]",
      "text/plain": [
       "<Figure size 432x288 with 1 Axes>"
      ]
     },
     "metadata": {
      "needs_background": "light"
     },
     "output_type": "display_data"
    }
   ],
   "source": [
    "plt.imshow(image_9_cv, cmap=plt.cm.gray)"
   ]
  },
  {
   "cell_type": "markdown",
   "metadata": {},
   "source": [
    "# 고양이 이미지로 실습해보기 "
   ]
  },
  {
   "cell_type": "code",
   "execution_count": 34,
   "metadata": {},
   "outputs": [
    {
     "data": {
      "image/png": "[encoded data removed]",
      "text/plain": [
       "<PIL.PngImagePlugin.PngImageFile image mode=RGB size=32x32 at 0x7FF29784DE20>"
      ]
     },
     "execution_count": 34,
     "metadata": {},
     "output_type": "execute_result"
    }
   ],
   "source": [
    "image_10 = Image.open('02image.png') # 이미지 객체인 상태 임. \n",
    "image_10"
   ]
  },
  {
   "cell_type": "code",
   "execution_count": 35,
   "metadata": {},
   "outputs": [
    {
     "name": "stdout",
     "output_type": "stream",
     "text": [
      "[[[125 125 116]\n",
      "  [110 101  91]\n",
      "  [102  90  83]\n",
      "  ...\n",
      "  [202 207 214]\n",
      "  [200 205 212]\n",
      "  [202 208 214]]\n",
      "\n",
      " [[142 146 142]\n",
      "  [146 144 139]\n",
      "  [176 172 170]\n",
      "  ...\n",
      "  [195 201 205]\n",
      "  [198 205 209]\n",
      "  [204 211 215]]\n",
      "\n",
      " [[180 185 183]\n",
      "  [143 146 146]\n",
      "  [156 157 157]\n",
      "  ...\n",
      "  [122 111 113]\n",
      "  [139 128 131]\n",
      "  [158 147 150]]\n",
      "\n",
      " ...\n",
      "\n",
      " [[104  82  41]\n",
      "  [101  80  39]\n",
      "  [101  81  38]\n",
      "  ...\n",
      "  [126 103  67]\n",
      "  [126 103  69]\n",
      "  [125 101  68]]\n",
      "\n",
      " [[104  81  40]\n",
      "  [105  84  41]\n",
      "  [109  88  43]\n",
      "  ...\n",
      "  [138 113  78]\n",
      "  [137 113  80]\n",
      "  [137 112  81]]\n",
      "\n",
      " [[105  83  42]\n",
      "  [108  87  45]\n",
      "  [115  94  50]\n",
      "  ...\n",
      "  [143 117  82]\n",
      "  [143 116  84]\n",
      "  [144 116  86]]]\n"
     ]
    }
   ],
   "source": [
    "\n",
    "array_10 = np.array(image_10)\n",
    "print(array_10)"
   ]
  },
  {
   "cell_type": "code",
   "execution_count": 36,
   "metadata": {},
   "outputs": [
    {
     "name": "stdout",
     "output_type": "stream",
     "text": [
      "(32, 32, 3)\n"
     ]
    }
   ],
   "source": [
    "print(array_10.shape)   #32 *32 픽셀을 가지고 컬러라는 것을 알 수 있다."
   ]
  },
  {
   "cell_type": "code",
   "execution_count": 57,
   "metadata": {},
   "outputs": [
    {
     "name": "stdout",
     "output_type": "stream",
     "text": [
      "(32, 32, 3)\n"
     ]
    }
   ],
   "source": [
    "array_10_image = Image.open('02image.png')\n",
    "cat_array = np.array(array_10_image)\n",
    "print(cat_array.shape)"
   ]
  },
  {
   "cell_type": "code",
   "execution_count": 58,
   "metadata": {
    "scrolled": true
   },
   "outputs": [
    {
     "data": {
      "text/plain": [
       "<matplotlib.image.AxesImage at 0x7ff2976917c0>"
      ]
     },
     "execution_count": 58,
     "metadata": {},
     "output_type": "execute_result"
    },
    {
     "data": {
      "image/png": "[encoded data removed]",
      "text/plain": [
       "<Figure size 432x288 with 1 Axes>"
      ]
     },
     "metadata": {
      "needs_background": "light"
     },
     "output_type": "display_data"
    }
   ],
   "source": [
    "plt.imshow(cat_array)"
   ]
  },
  {
   "cell_type": "code",
   "execution_count": null,
   "metadata": {},
   "outputs": [],
   "source": []
  },
  {
   "cell_type": "code",
   "execution_count": 38,
   "metadata": {},
   "outputs": [],
   "source": [
    "array_10_1d= array_10.reshape(32*32*3,)"
   ]
  },
  {
   "cell_type": "code",
   "execution_count": 42,
   "metadata": {},
   "outputs": [
    {
     "data": {
      "text/plain": [
       "<matplotlib.image.AxesImage at 0x7ff2976d8820>"
      ]
     },
     "execution_count": 42,
     "metadata": {},
     "output_type": "execute_result"
    },
    {
     "data": {
      "image/png": "[encoded data removed]",
      "text/plain": [
       "<Figure size 432x288 with 1 Axes>"
      ]
     },
     "metadata": {
      "needs_background": "light"
     },
     "output_type": "display_data"
    }
   ],
   "source": [
    "plt.imshow(array_10)"
   ]
  },
  {
   "cell_type": "code",
   "execution_count": 46,
   "metadata": {},
   "outputs": [
    {
     "name": "stdout",
     "output_type": "stream",
     "text": [
      "(10, 10)\n"
     ]
    }
   ],
   "source": [
    "image_10_cv =cv2.imread('02image.png')\n",
    "\n",
    "image_10_cv.resize(10,10)\n",
    "print(image_10_cv.shape)"
   ]
  },
  {
   "cell_type": "code",
   "execution_count": 60,
   "metadata": {},
   "outputs": [],
   "source": [
    "image_10 =cv2.imread('02image.png', cv2.IMREAD_GRAYSCALE)\n",
    "\n",
    "plt.imshow(image_10, cmap=plt)"
   ]
  },
  {
   "cell_type": "code",
   "execution_count": 47,
   "metadata": {},
   "outputs": [
    {
     "data": {
      "text/plain": [
       "<matplotlib.image.AxesImage at 0x7ff2976b5ac0>"
      ]
     },
     "execution_count": 47,
     "metadata": {},
     "output_type": "execute_result"
    },
    {
     "data": {
      "image/png": "[encoded data removed]",
      "text/plain": [
       "<Figure size 432x288 with 1 Axes>"
      ]
     },
     "metadata": {
      "needs_background": "light"
     },
     "output_type": "display_data"
    }
   ],
   "source": [
    "plt.imshow(image_10_cv, cmap=plt.cm.gray)"
   ]
  },
  {
   "cell_type": "code",
   "execution_count": null,
   "metadata": {},
   "outputs": [],
   "source": []
  },
  {
   "cell_type": "code",
   "execution_count": 49,
   "metadata": {},
   "outputs": [],
   "source": [
    "a= np.array([[1,1,1,1], [0,0,0,0]])"
   ]
  },
  {
   "cell_type": "code",
   "execution_count": 55,
   "metadata": {},
   "outputs": [
    {
     "data": {
      "text/plain": [
       "array([1, 1, 1, 1, 0, 0, 0, 0])"
      ]
     },
     "execution_count": 55,
     "metadata": {},
     "output_type": "execute_result"
    }
   ],
   "source": [
    "a.reshape(-1)"
   ]
  },
  {
   "cell_type": "code",
   "execution_count": null,
   "metadata": {},
   "outputs": [],
   "source": []
  }
 ],
 "metadata": {
  "colab": {
   "name": "00.Image_shape.ipynb",
   "provenance": []
  },
  "kernelspec": {
   "display_name": "py38_tensorflow",
   "language": "python",
   "name": "conda-env-py38_tensorflow-py"
  },
  "language_info": {
   "codemirror_mode": {
    "name": "ipython",
    "version": 3
   },
   "file_extension": ".py",
   "mimetype": "text/x-python",
   "name": "python",
   "nbconvert_exporter": "python",
   "pygments_lexer": "ipython3",
   "version": "3.8.8"
  }
 },
 "nbformat": 4,
 "nbformat_minor": 1
}
