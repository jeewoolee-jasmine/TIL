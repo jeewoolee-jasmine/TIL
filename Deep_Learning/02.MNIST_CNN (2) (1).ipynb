{
 "cells": [
  {
   "cell_type": "markdown",
   "metadata": {},
   "source": [
    "### 딥-러닝 과정 CNN "
   ]
  },
  {
   "cell_type": "markdown",
   "metadata": {},
   "source": [
    "### 두번째 실습. Keras 모델 생성/학습 - MNIST : CNN\n",
    "[Keras Dataset](https://keras.io/ko/datasets/#mnist)"
   ]
  },
  {
   "cell_type": "code",
   "execution_count": null,
   "metadata": {},
   "outputs": [],
   "source": [
    "from tensorflow.python.client import device_lib\n",
    "device_lib "
   ]
  },
  {
   "cell_type": "code",
   "execution_count": 13,
   "metadata": {},
   "outputs": [
    {
     "name": "stderr",
     "output_type": "stream",
     "text": [
      "Matplotlib is building the font cache; this may take a moment.\n"
     ]
    }
   ],
   "source": [
    "from tensorflow import keras\n",
    "from keras.datasets import mnist\n",
    "from keras.utils import to_categorical\n",
    "#from keras.models import Sequential\n",
    "from keras.layers import Conv2D\n",
    "from keras.layers import MaxPooling2D\n",
    "from keras.layers import Dense\n",
    "from keras.layers import Flatten\n",
    "from keras.preprocessing.image import ImageDataGenerator\n",
    "import matplotlib.pyplot as plt\n",
    "from PIL import  Image\n",
    "import numpy as np"
   ]
  },
  {
   "cell_type": "code",
   "execution_count": 14,
   "metadata": {},
   "outputs": [
    {
     "name": "stdout",
     "output_type": "stream",
     "text": [
      "(60000, 28, 28)\n",
      "(10000, 28, 28)\n",
      "(60000,)\n",
      "(10000,)\n"
     ]
    }
   ],
   "source": [
    "# 1. 데이터 불러오기\n",
    "(x_train, y_train), (x_test, y_test) = mnist.load_data()\n",
    "print(x_train.shape)\n",
    "print(x_test.shape)\n",
    "print(y_train.shape)\n",
    "print(y_test.shape)"
   ]
  },
  {
   "cell_type": "code",
   "execution_count": 15,
   "metadata": {},
   "outputs": [
    {
     "data": {
      "text/plain": [
       "<matplotlib.image.AxesImage at 0x7f101db532b0>"
      ]
     },
     "execution_count": 15,
     "metadata": {},
     "output_type": "execute_result"
    },
    {
     "data": {
      "image/png": "[encoded data removed]",
      "text/plain": [
       "<Figure size 432x288 with 1 Axes>"
      ]
     },
     "metadata": {
      "needs_background": "light"
     },
     "output_type": "display_data"
    }
   ],
   "source": [
    "# 2. 이미지 데이터 확인하기 🖼\n",
    "plt.imshow(x_train[0], cmap=plt.cm.gray)"
   ]
  },
  {
   "cell_type": "code",
   "execution_count": 16,
   "metadata": {},
   "outputs": [],
   "source": [
    "# 3-1. 이미지 데이터 전처리 : 2차원->3차원 🌟🌟🌟\n",
    "x_train_3d = x_train.reshape(60000,28,28,-1)\n",
    "x_test_3d= x_test.reshape(10000,28,28,-1)"
   ]
  },
  {
   "cell_type": "code",
   "execution_count": 17,
   "metadata": {},
   "outputs": [
    {
     "data": {
      "text/plain": [
       "(28, 28, 1)"
      ]
     },
     "execution_count": 17,
     "metadata": {},
     "output_type": "execute_result"
    }
   ],
   "source": [
    "x_train_3d[0].shape"
   ]
  },
  {
   "cell_type": "code",
   "execution_count": 18,
   "metadata": {},
   "outputs": [],
   "source": [
    "# 3-2. 이미지 데이터 전처리 : Normalzation \n",
    "x_train_3d= x_train_3d/255\n",
    "x_test_3d = x_test_3d/255"
   ]
  },
  {
   "cell_type": "code",
   "execution_count": 19,
   "metadata": {},
   "outputs": [
    {
     "name": "stdout",
     "output_type": "stream",
     "text": [
      "[[0. 0. 0. ... 0. 0. 0.]\n",
      " [1. 0. 0. ... 0. 0. 0.]\n",
      " [0. 0. 0. ... 0. 0. 0.]\n",
      " ...\n",
      " [0. 0. 0. ... 0. 0. 0.]\n",
      " [0. 0. 0. ... 0. 0. 0.]\n",
      " [0. 0. 0. ... 0. 1. 0.]]\n",
      "============================================================\n",
      "[[0. 0. 0. ... 1. 0. 0.]\n",
      " [0. 0. 1. ... 0. 0. 0.]\n",
      " [0. 1. 0. ... 0. 0. 0.]\n",
      " ...\n",
      " [0. 0. 0. ... 0. 0. 0.]\n",
      " [0. 0. 0. ... 0. 0. 0.]\n",
      " [0. 0. 0. ... 0. 0. 0.]]\n"
     ]
    }
   ],
   "source": [
    "# 4. Label 전처리 (one-hot encoding) \n",
    "\n",
    "from numpy import array\n",
    "from numpy import argmax\n",
    "from keras.utils import to_categorical\n",
    "# define example\n",
    "\n",
    "y_train = to_categorical(y_train)\n",
    "y_test = to_categorical(y_test)\n",
    "print(y_train)\n",
    "print('==='*20)\n",
    "print(y_test)"
   ]
  },
  {
   "cell_type": "code",
   "execution_count": 20,
   "metadata": {},
   "outputs": [
    {
     "name": "stdout",
     "output_type": "stream",
     "text": [
      "Model: \"sequential\"\n",
      "_________________________________________________________________\n",
      "Layer (type)                 Output Shape              Param #   \n",
      "=================================================================\n",
      "conv2d (Conv2D)              (None, 28, 28, 32)        320       \n",
      "_________________________________________________________________\n",
      "conv2d_1 (Conv2D)            (None, 28, 28, 64)        18496     \n",
      "_________________________________________________________________\n",
      "max_pooling2d (MaxPooling2D) (None, 14, 14, 64)        0         \n",
      "_________________________________________________________________\n",
      "flatten (Flatten)            (None, 12544)             0         \n",
      "_________________________________________________________________\n",
      "dense (Dense)                (None, 784)               9835280   \n",
      "_________________________________________________________________\n",
      "dense_1 (Dense)              (None, 256)               200960    \n",
      "_________________________________________________________________\n",
      "dense_2 (Dense)              (None, 10)                2570      \n",
      "=================================================================\n",
      "Total params: 10,057,626\n",
      "Trainable params: 10,057,626\n",
      "Non-trainable params: 0\n",
      "_________________________________________________________________\n"
     ]
    }
   ],
   "source": [
    "# 5. 모델 생성 : CNN 🌟🌟🌟\n",
    "\n",
    "from tensorflow import keras\n",
    "from tensorflow.keras import layers\n",
    "from tensorflow.keras.layers import Dense, Dropout\n",
    "from tensorflow.keras.layers import Conv2D\n",
    "model = keras.Sequential()\n",
    "               # filter의 갯수, 필터의 사이즈(홀수로만) #이미지 사이즈 유지? #은닉층\"relu\" \n",
    "model.add(Conv2D(32, kernel_size=(3, 3), padding = 'same', activation='relu', input_shape= (28,28,1)))\n",
    "model.add(Conv2D(64,(3,3),padding = 'same', activation='relu'))\n",
    "model.add(MaxPooling2D(pool_size=(2, 2)))\n",
    "#model.add(Dropout(0.5))\n",
    "model.add(Flatten())\n",
    "#---------------------------------------------------------------------\n",
    "model.add(Dense(784, activation='relu', kernel_initializer='he_uniform'))\n",
    "model.add(Dense(256, activation='relu', kernel_initializer='he_uniform'))\n",
    "model.add(Dense(10, activation='softmax'))\n",
    "\n",
    "model.summary()"
   ]
  },
  {
   "cell_type": "code",
   "execution_count": 21,
   "metadata": {},
   "outputs": [
    {
     "name": "stderr",
     "output_type": "stream",
     "text": [
      "/anaconda/envs/py38_tensorflow/lib/python3.8/site-packages/tensorflow/python/keras/optimizer_v2/optimizer_v2.py:374: UserWarning: The `lr` argument is deprecated, use `learning_rate` instead.\n",
      "  warnings.warn(\n"
     ]
    }
   ],
   "source": [
    "# 6. Compile - Optimizer, Loss function 설정\n",
    "# Compile the model\n",
    "model.compile(loss='categorical_crossentropy',\n",
    "              optimizer=keras.optimizers.Adam(lr=0.001),\n",
    "              metrics=['accuracy'])"
   ]
  },
  {
   "cell_type": "code",
   "execution_count": null,
   "metadata": {},
   "outputs": [],
   "source": [
    "x_train_3d.shape"
   ]
  },
  {
   "cell_type": "code",
   "execution_count": null,
   "metadata": {},
   "outputs": [],
   "source": [
    "y_train.shape"
   ]
  },
  {
   "cell_type": "code",
   "execution_count": 27,
   "metadata": {},
   "outputs": [
    {
     "name": "stdout",
     "output_type": "stream",
     "text": [
      "Epoch 1/30\n",
      "1500/1500 [==============================] - 11s 8ms/step - loss: 0.0041 - accuracy: 0.9990 - val_loss: 0.0860 - val_accuracy: 0.9889\n",
      "Epoch 2/30\n",
      "1500/1500 [==============================] - 11s 7ms/step - loss: 0.0055 - accuracy: 0.9989 - val_loss: 0.0806 - val_accuracy: 0.9890\n",
      "Epoch 3/30\n",
      "1500/1500 [==============================] - 11s 7ms/step - loss: 0.0031 - accuracy: 0.9991 - val_loss: 0.0754 - val_accuracy: 0.9898\n",
      "Epoch 4/30\n",
      "1500/1500 [==============================] - 11s 7ms/step - loss: 0.0063 - accuracy: 0.9984 - val_loss: 0.0982 - val_accuracy: 0.9878\n",
      "Epoch 5/30\n",
      "1500/1500 [==============================] - 11s 7ms/step - loss: 0.0039 - accuracy: 0.9991 - val_loss: 0.0854 - val_accuracy: 0.9902\n",
      "Epoch 6/30\n",
      "1500/1500 [==============================] - 11s 7ms/step - loss: 0.0040 - accuracy: 0.9991 - val_loss: 0.0977 - val_accuracy: 0.9893\n",
      "Epoch 7/30\n",
      "1500/1500 [==============================] - 11s 7ms/step - loss: 0.0027 - accuracy: 0.9994 - val_loss: 0.0902 - val_accuracy: 0.9917\n",
      "Epoch 8/30\n",
      "1500/1500 [==============================] - 11s 7ms/step - loss: 0.0074 - accuracy: 0.9985 - val_loss: 0.1441 - val_accuracy: 0.9860\n",
      "Epoch 9/30\n",
      "1500/1500 [==============================] - 11s 7ms/step - loss: 0.0039 - accuracy: 0.9991 - val_loss: 0.0742 - val_accuracy: 0.9909\n",
      "Epoch 10/30\n",
      "1500/1500 [==============================] - 11s 7ms/step - loss: 0.0060 - accuracy: 0.9986 - val_loss: 0.0901 - val_accuracy: 0.9902\n",
      "Epoch 11/30\n",
      "1500/1500 [==============================] - 11s 7ms/step - loss: 0.0037 - accuracy: 0.9992 - val_loss: 0.0876 - val_accuracy: 0.9903\n",
      "Epoch 12/30\n",
      "1500/1500 [==============================] - 11s 7ms/step - loss: 0.0035 - accuracy: 0.9994 - val_loss: 0.1142 - val_accuracy: 0.9886\n",
      "Epoch 13/30\n",
      "1500/1500 [==============================] - 11s 7ms/step - loss: 0.0034 - accuracy: 0.9994 - val_loss: 0.1132 - val_accuracy: 0.9901\n",
      "Epoch 14/30\n",
      "1500/1500 [==============================] - 11s 7ms/step - loss: 0.0073 - accuracy: 0.9988 - val_loss: 0.0872 - val_accuracy: 0.9887\n",
      "Epoch 15/30\n",
      "1500/1500 [==============================] - 11s 7ms/step - loss: 0.0018 - accuracy: 0.9996 - val_loss: 0.1069 - val_accuracy: 0.9887\n",
      "Epoch 16/30\n",
      "1500/1500 [==============================] - 11s 7ms/step - loss: 0.0047 - accuracy: 0.9989 - val_loss: 0.1421 - val_accuracy: 0.9888\n",
      "Epoch 17/30\n",
      "1500/1500 [==============================] - 11s 7ms/step - loss: 0.0024 - accuracy: 0.9996 - val_loss: 0.1229 - val_accuracy: 0.9902\n",
      "Epoch 18/30\n",
      "1500/1500 [==============================] - 11s 7ms/step - loss: 0.0072 - accuracy: 0.9990 - val_loss: 0.1659 - val_accuracy: 0.9885\n",
      "Epoch 19/30\n",
      "1500/1500 [==============================] - 11s 7ms/step - loss: 0.0037 - accuracy: 0.9995 - val_loss: 0.1357 - val_accuracy: 0.9898\n",
      "Epoch 20/30\n",
      "1500/1500 [==============================] - 11s 7ms/step - loss: 0.0040 - accuracy: 0.9994 - val_loss: 0.0940 - val_accuracy: 0.9911\n",
      "Epoch 21/30\n",
      "1500/1500 [==============================] - 11s 7ms/step - loss: 0.0017 - accuracy: 0.9997 - val_loss: 0.1103 - val_accuracy: 0.9901\n",
      "Epoch 22/30\n",
      "1500/1500 [==============================] - 11s 7ms/step - loss: 6.5895e-05 - accuracy: 1.0000 - val_loss: 0.1086 - val_accuracy: 0.9908\n",
      "Epoch 23/30\n",
      "1500/1500 [==============================] - 11s 7ms/step - loss: 2.0094e-07 - accuracy: 1.0000 - val_loss: 0.1084 - val_accuracy: 0.9908\n",
      "Epoch 24/30\n",
      "1500/1500 [==============================] - 11s 7ms/step - loss: 5.3896e-08 - accuracy: 1.0000 - val_loss: 0.1085 - val_accuracy: 0.9909\n",
      "Epoch 25/30\n",
      "1500/1500 [==============================] - 11s 7ms/step - loss: 3.6351e-08 - accuracy: 1.0000 - val_loss: 0.1086 - val_accuracy: 0.9908\n",
      "Epoch 26/30\n",
      "1500/1500 [==============================] - 11s 7ms/step - loss: 2.4318e-08 - accuracy: 1.0000 - val_loss: 0.1089 - val_accuracy: 0.9908\n",
      "Epoch 27/30\n",
      "1500/1500 [==============================] - 11s 7ms/step - loss: 1.6215e-08 - accuracy: 1.0000 - val_loss: 0.1092 - val_accuracy: 0.9908\n",
      "Epoch 28/30\n",
      "1500/1500 [==============================] - 11s 7ms/step - loss: 1.0488e-08 - accuracy: 1.0000 - val_loss: 0.1098 - val_accuracy: 0.9908\n",
      "Epoch 29/30\n",
      "1500/1500 [==============================] - 11s 7ms/step - loss: 6.6832e-09 - accuracy: 1.0000 - val_loss: 0.1106 - val_accuracy: 0.9908\n",
      "Epoch 30/30\n",
      "1500/1500 [==============================] - 11s 7ms/step - loss: 4.2096e-09 - accuracy: 1.0000 - val_loss: 0.1116 - val_accuracy: 0.9908\n"
     ]
    }
   ],
   "source": [
    "# 7. 모델 학습시키기\n",
    "           \n",
    "history= model.fit(x_train_3d, y_train,\n",
    "          batch_size=32,\n",
    "          epochs=30,\n",
    "          verbose=1, \n",
    "          validation_split= 0.2)  "
   ]
  },
  {
   "cell_type": "code",
   "execution_count": 28,
   "metadata": {},
   "outputs": [
    {
     "name": "stdout",
     "output_type": "stream",
     "text": [
      "1875/1875 [==============================] - 5s 2ms/step - loss: 0.0223 - accuracy: 0.9982\n",
      "313/313 [==============================] - 1s 3ms/step - loss: 0.0953 - accuracy: 0.9926\n"
     ]
    }
   ],
   "source": [
    "# 8. 모델 평가하기\n",
    "train_result = model.evaluate(x_train_3d, y_train)\n",
    "test_result = model.evaluate(x_test_3d, y_test)"
   ]
  },
  {
   "cell_type": "code",
   "execution_count": 29,
   "metadata": {},
   "outputs": [
    {
     "data": {
      "image/png": "[encoded data removed]",
      "text/plain": [
       "<Figure size 216x216 with 1 Axes>"
      ]
     },
     "metadata": {
      "needs_background": "light"
     },
     "output_type": "display_data"
    },
    {
     "data": {
      "image/png": "[encoded data removed]",
      "text/plain": [
       "<Figure size 216x216 with 1 Axes>"
      ]
     },
     "metadata": {
      "needs_background": "light"
     },
     "output_type": "display_data"
    },
    {
     "data": {
      "image/png": "[encoded data removed]",
      "text/plain": [
       "<Figure size 216x216 with 1 Axes>"
      ]
     },
     "metadata": {
      "needs_background": "light"
     },
     "output_type": "display_data"
    }
   ],
   "source": [
    "# 9. 이미지를 랜덤으로 선택해 훈련된 모델로 예측 🖼\n",
    "for index in np.random.choice(len(y_test), 3, replace = False):\n",
    "    test_image = x_test_3d[index].reshape(1,28,28,1)\n",
    "    predicted = model.predict(test_image)\n",
    "    label = y_test[index]\n",
    "    result_label = np.where(label == np.amax(label))\n",
    "    result_predicted = np.where(predicted == np.amax(predicted))\n",
    "    title = \"Label value = %s  Predicted value = %s \" % (label, result_predicted[1])\n",
    "    \n",
    "    fig = plt.figure(1, figsize = (3,3))\n",
    "    ax1 = fig.add_axes((0,0,.8,.8))\n",
    "    ax1.set_title(title)\n",
    "    images = x_test_3d\n",
    "    plt.imshow(images[index].reshape(28, 28), cmap = plt.cm.gray, interpolation = 'nearest')\n",
    "    plt.show()\n"
   ]
  },
  {
   "cell_type": "code",
   "execution_count": 30,
   "metadata": {},
   "outputs": [
    {
     "data": {
      "image/png": "[encoded data removed]",
      "text/plain": [
       "<Figure size 432x288 with 1 Axes>"
      ]
     },
     "metadata": {
      "needs_background": "light"
     },
     "output_type": "display_data"
    }
   ],
   "source": [
    "# 10. 학습 시각화하기\n",
    "plt.plot(history.history['loss'])\n",
    "plt.plot(history.history['val_loss'])\n",
    "plt.xlabel('Epoch')\n",
    "plt.ylabel('loss')\n",
    "#plt.legend(['train', 'val'], loc = 'upper left')\n",
    "plt.show()"
   ]
  },
  {
   "cell_type": "code",
   "execution_count": 31,
   "metadata": {},
   "outputs": [],
   "source": [
    "model.save('mnlist_gpu.h5')"
   ]
  },
  {
   "cell_type": "code",
   "execution_count": null,
   "metadata": {},
   "outputs": [],
   "source": []
  }
 ],
 "metadata": {
  "kernelspec": {
   "display_name": "py38_tensorflow",
   "language": "python",
   "name": "conda-env-py38_tensorflow-py"
  },
  "language_info": {
   "codemirror_mode": {
    "name": "ipython",
    "version": 3
   },
   "file_extension": ".py",
   "mimetype": "text/x-python",
   "name": "python",
   "nbconvert_exporter": "python",
   "pygments_lexer": "ipython3",
   "version": "3.8.10"
  }
 },
 "nbformat": 4,
 "nbformat_minor": 4
}
