{
 "cells": [
  {
   "cell_type": "markdown",
   "metadata": {},
   "source": [
    "# Python 을 이용해서 MongoDB에 test.txt 파일을 저장 및 읽기"
   ]
  },
  {
   "cell_type": "code",
   "execution_count": 1,
   "metadata": {},
   "outputs": [],
   "source": [
    "#필요한 라이브러리를 임포트한다. \n",
    "from pymongo import MongoClient  \n",
    "from gridfs import GridFS\n",
    "from bson import objectid\n"
   ]
  },
  {
   "cell_type": "markdown",
   "metadata": {},
   "source": [
    "Database인 Mongodb에 새로운 데이터 베이스 설정해주기, 이름은, python_test"
   ]
  },
  {
   "cell_type": "code",
   "execution_count": 2,
   "metadata": {},
   "outputs": [],
   "source": [
    "db = MongoClient().python_test     # 데이터 베이스가 잘 설정되면, CMD창에서 확인해볼수 있다. \n",
    "                                 # 창경로 : Mongodb있는경로 > mongo"
   ]
  },
  {
   "attachments": {
    "image.png": {
     "image/png": "[encoded data removed]"
    }
   },
   "cell_type": "markdown",
   "metadata": {},
   "source": [
    "![image.png](attachment:image.png)"
   ]
  },
  {
   "cell_type": "code",
   "execution_count": 4,
   "metadata": {},
   "outputs": [],
   "source": [
    "fs= GridFS(db) #python_test에 파일을 저장할 객체 생성"
   ]
  },
  {
   "cell_type": "code",
   "execution_count": 6,
   "metadata": {},
   "outputs": [],
   "source": [
    "# 파일을 읽을 객체 f를 생성하기\n",
    "with open (\"C:/AI/workspace/mongodb/test.txt\", 'rb') as f:\n",
    "    fs.put(f, filename = \"test.txt\")\n",
    "    # f를 통해 데이터를 읽은후, fs(궁극적으로 GridFS)에 저장하기 "
   ]
  },
  {
   "cell_type": "code",
   "execution_count": 7,
   "metadata": {},
   "outputs": [
    {
     "data": {
      "text/plain": [
       "<pymongo.cursor.Cursor at 0x20310260340>"
      ]
     },
     "execution_count": 7,
     "metadata": {},
     "output_type": "execute_result"
    }
   ],
   "source": [
    "db.fs.files.find()"
   ]
  },
  {
   "cell_type": "code",
   "execution_count": 8,
   "metadata": {},
   "outputs": [
    {
     "data": {
      "text/plain": [
       "[{'_id': ObjectId('608f8550649d3b3cb4ba5a4d'),\n",
       "  'filename': 'test.txt',\n",
       "  'md5': 'dd18bf3a8e0a2a3e53e2661c7fb53534',\n",
       "  'chunkSize': 261120,\n",
       "  'length': 8,\n",
       "  'uploadDate': datetime.datetime(2021, 5, 3, 5, 8, 32, 754000)},\n",
       " {'_id': ObjectId('608f862fffdc41ec3e33d355'),\n",
       "  'filename': 'test.txt',\n",
       "  'md5': 'dd18bf3a8e0a2a3e53e2661c7fb53534',\n",
       "  'chunkSize': 261120,\n",
       "  'length': 8,\n",
       "  'uploadDate': datetime.datetime(2021, 5, 3, 5, 12, 15, 138000)},\n",
       " {'_id': ObjectId('608f867fffdc41ec3e33d357'),\n",
       "  'filename': 'upload image',\n",
       "  'metadata': {'contentType': 'image/jpg'},\n",
       "  'chunkSize': 261120,\n",
       "  'md5': 'adb37ae4222287a5840397277e9a1613',\n",
       "  'length': 87449,\n",
       "  'uploadDate': datetime.datetime(2021, 5, 3, 5, 13, 37, 500000)},\n",
       " {'_id': ObjectId('608fa61c9bc46fdd0461b6af'),\n",
       "  'filename': 'test.txt',\n",
       "  'md5': 'b184694dac0c98bc0719ce9073f8fbad',\n",
       "  'chunkSize': 261120,\n",
       "  'length': 30,\n",
       "  'uploadDate': datetime.datetime(2021, 5, 3, 7, 28, 28, 152000)},\n",
       " {'_id': ObjectId('608fa6899bc46fdd0461b6b1'),\n",
       "  'filename': 'test.txt',\n",
       "  'md5': 'b184694dac0c98bc0719ce9073f8fbad',\n",
       "  'chunkSize': 261120,\n",
       "  'length': 30,\n",
       "  'uploadDate': datetime.datetime(2021, 5, 3, 7, 30, 17, 170000)}]"
      ]
     },
     "execution_count": 8,
     "metadata": {},
     "output_type": "execute_result"
    }
   ],
   "source": [
    "list(db.fs.files.find()) #CMD 창에서도 같은 명령어로 확인해볼 수 있다. "
   ]
  },
  {
   "cell_type": "code",
   "execution_count": 9,
   "metadata": {},
   "outputs": [],
   "source": [
    "f= fs.get_last_version(filename=\"test.txt\")"
   ]
  },
  {
   "cell_type": "code",
   "execution_count": 10,
   "metadata": {},
   "outputs": [
    {
     "data": {
      "text/plain": [
       "b'This is test file for mongodb '"
      ]
     },
     "execution_count": 10,
     "metadata": {},
     "output_type": "execute_result"
    }
   ],
   "source": [
    "data= f.read()     # 아래 보이는 내용은 test.txt파일에 있는 자료.\n",
    "data"
   ]
  },
  {
   "cell_type": "code",
   "execution_count": 12,
   "metadata": {},
   "outputs": [],
   "source": [
    "# 만약, 데이터 가 한글로 되어있는 경우, utf-8으로 인코딩하여 줄력하기.\n",
    "#data.decode('utf-8')"
   ]
  },
  {
   "cell_type": "markdown",
   "metadata": {},
   "source": [
    "# Python을 이용한 MOngoDB 이미지 파일 저장"
   ]
  },
  {
   "cell_type": "code",
   "execution_count": 28,
   "metadata": {},
   "outputs": [],
   "source": [
    "from pymongo import MongoClient  \n",
    "from gridfs import GridFS\n",
    "from bson import objectid\n",
    "from gridfs import GridFSBucket  # 위에서 임포트한 라이브러리보다, 마지막 한개가 추가되었다.\n",
    "import urllib.request  #이미지를 불러오기위해서 필요한 라이브러리"
   ]
  },
  {
   "cell_type": "code",
   "execution_count": 29,
   "metadata": {},
   "outputs": [],
   "source": [
    "db=MongoClient().python_test\n",
    "fs= GridFS(db)   #위와 같은 방식"
   ]
  },
  {
   "cell_type": "code",
   "execution_count": 30,
   "metadata": {},
   "outputs": [],
   "source": [
    "#다운받을 이미지 url 가져오기.\n",
    "url = \"https://postfiles.pstatic.net/20151102_227/492466_1446457731359RwtYg_PNG/2.png?type=w2\""
   ]
  },
  {
   "cell_type": "code",
   "execution_count": 35,
   "metadata": {},
   "outputs": [],
   "source": [
    " # 이미지경로에서 타입부분을 가져오기, \n",
    "image_type= url.split(\".\")[-1]    # 이미지 타입, png 뒤에서 부터 쉽게 분리하기.\n",
    "pic_type = \"image/{}\".format(image_type)\n",
    "pic_type\n",
    "\n",
    "image_name= url.split(\"/\")[-1]"
   ]
  },
  {
   "cell_type": "code",
   "execution_count": 32,
   "metadata": {},
   "outputs": [],
   "source": [
    "image = urllib.request.urlopen(url).read()\n",
    " # 이미지의 내용을 읽어서 image에 저장하기, 이미파일은 숫자나 글로 표현가능."
   ]
  },
  {
   "cell_type": "code",
   "execution_count": 41,
   "metadata": {},
   "outputs": [],
   "source": [
    "bucket =GridFSBucket(db) #이미지 파일을 저장할 객체 생성하기 \n",
    "grid_in = bucket.open_upload_stream(image_name, metadata= {\"Content_Type\":image_type })\n",
    "                            # 파일을 GridFs에 저장할 객체 생성하기 \n",
    "grid_in.write(image)#이미지 내용을 GridFS 에 저장 "
   ]
  },
  {
   "cell_type": "code",
   "execution_count": 40,
   "metadata": {},
   "outputs": [],
   "source": [
    "grid_in.close()   # 이미지 저장 종료하기"
   ]
  },
  {
   "cell_type": "code",
   "execution_count": null,
   "metadata": {},
   "outputs": [],
   "source": []
  }
 ],
 "metadata": {
  "kernelspec": {
   "display_name": "Python 3",
   "language": "python",
   "name": "python3"
  },
  "language_info": {
   "codemirror_mode": {
    "name": "ipython",
    "version": 3
   },
   "file_extension": ".py",
   "mimetype": "text/x-python",
   "name": "python",
   "nbconvert_exporter": "python",
   "pygments_lexer": "ipython3",
   "version": "3.8.5"
  }
 },
 "nbformat": 4,
 "nbformat_minor": 4
}
