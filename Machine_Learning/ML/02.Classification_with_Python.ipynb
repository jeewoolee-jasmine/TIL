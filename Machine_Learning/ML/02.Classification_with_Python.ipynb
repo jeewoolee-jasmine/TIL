{
 "cells": [
  {
   "cell_type": "markdown",
   "metadata": {},
   "source": [
    "## Machine Leaning 실습"
   ]
  },
  {
   "cell_type": "markdown",
   "metadata": {},
   "source": [
    "### Classification With Python"
   ]
  },
  {
   "cell_type": "code",
   "execution_count": null,
   "metadata": {
    "colab": {
     "base_uri": "https://localhost:8080/"
    },
    "id": "9EBh50YkFRws",
    "outputId": "3f3fb77d-4dd5-43bd-d622-4a5508629ce9"
   },
   "outputs": [],
   "source": [
    "# 1. package 가져오기\n"
   ]
  },
  {
   "cell_type": "code",
   "execution_count": null,
   "metadata": {
    "colab": {
     "base_uri": "https://localhost:8080/",
     "height": 204
    },
    "id": "OFm1FqfmGsMM",
    "outputId": "5efcb95c-c077-4afa-b985-acaffdecfde5"
   },
   "outputs": [],
   "source": [
    "# 2. 데이터 프레임\n"
   ]
  },
  {
   "cell_type": "code",
   "execution_count": null,
   "metadata": {
    "colab": {
     "base_uri": "https://localhost:8080/"
    },
    "id": "hrYQm76BHHtG",
    "outputId": "abbe2765-dc4e-4f58-fb85-c97e42a018fb"
   },
   "outputs": [],
   "source": [
    "# 3. 데이터 살펴보기\n"
   ]
  },
  {
   "cell_type": "code",
   "execution_count": null,
   "metadata": {
    "colab": {
     "base_uri": "https://localhost:8080/"
    },
    "id": "8I-8xQE1HZ2G",
    "outputId": "6d385155-2f41-44b3-8553-682454bec440"
   },
   "outputs": [],
   "source": [
    "# 4. feature/label 분리\n"
   ]
  },
  {
   "cell_type": "code",
   "execution_count": null,
   "metadata": {
    "colab": {
     "base_uri": "https://localhost:8080/"
    },
    "id": "TK2crw80JbQm",
    "outputId": "1bada6cb-6b35-47cb-99ea-3469d5faf4ba"
   },
   "outputs": [],
   "source": [
    "# 5. 빠진 값 확인 \n"
   ]
  },
  {
   "cell_type": "code",
   "execution_count": null,
   "metadata": {
    "colab": {
     "base_uri": "https://localhost:8080/"
    },
    "id": "NYsVoNxSJzpQ",
    "outputId": "97dde684-69a7-4e50-e28f-5c4ea483fc35"
   },
   "outputs": [],
   "source": [
    "# 6. Clean Missing Data 1 - numeric\n"
   ]
  },
  {
   "cell_type": "code",
   "execution_count": null,
   "metadata": {
    "colab": {
     "base_uri": "https://localhost:8080/"
    },
    "id": "6WIqtQCPL2cN",
    "outputId": "97f2150f-de37-4bce-cedd-be3a53170483"
   },
   "outputs": [],
   "source": [
    "# 6. Clean Missing Data 2 - string\n"
   ]
  },
  {
   "cell_type": "code",
   "execution_count": null,
   "metadata": {
    "colab": {
     "base_uri": "https://localhost:8080/"
    },
    "id": "w3uFQAYfS0iq",
    "outputId": "d5ebec94-e7ac-4a54-80e7-43dc068de9ab"
   },
   "outputs": [],
   "source": [
    "# 7. One hot encoding\n"
   ]
  },
  {
   "cell_type": "code",
   "execution_count": null,
   "metadata": {
    "colab": {
     "base_uri": "https://localhost:8080/"
    },
    "id": "Y4fkdd-CWdgL",
    "outputId": "c7099b65-59de-4db0-a1ae-bfa5a7ce228b"
   },
   "outputs": [],
   "source": [
    "# 8. split data\n"
   ]
  },
  {
   "cell_type": "code",
   "execution_count": null,
   "metadata": {
    "colab": {
     "base_uri": "https://localhost:8080/"
    },
    "id": "b6xgYWlTX8-v",
    "outputId": "7c54115c-200b-49e0-dc1e-77989c759a1e"
   },
   "outputs": [],
   "source": [
    "# 9. train\n"
   ]
  },
  {
   "cell_type": "code",
   "execution_count": null,
   "metadata": {
    "colab": {
     "base_uri": "https://localhost:8080/"
    },
    "id": "6yHBo-wkZNPQ",
    "outputId": "b03fdb86-b00d-4ccb-94aa-9a4a9b9015a8"
   },
   "outputs": [],
   "source": [
    "# 10. Score\n"
   ]
  },
  {
   "cell_type": "code",
   "execution_count": null,
   "metadata": {
    "colab": {
     "base_uri": "https://localhost:8080/"
    },
    "id": "2brrEteeZp4z",
    "outputId": "cdf608c1-0f78-46df-a610-13b77418ff0c"
   },
   "outputs": [],
   "source": [
    "# 11. Evaluate\n"
   ]
  },
  {
   "cell_type": "code",
   "execution_count": null,
   "metadata": {
    "colab": {
     "base_uri": "https://localhost:8080/"
    },
    "id": "Ziu78-VaZ0J6",
    "outputId": "5937f1b3-92d5-40d8-e5a0-7392a2586cb6"
   },
   "outputs": [],
   "source": [
    "# 12. Confusion Matrix\n"
   ]
  },
  {
   "cell_type": "code",
   "execution_count": null,
   "metadata": {
    "colab": {
     "base_uri": "https://localhost:8080/",
     "height": 348
    },
    "id": "_S-UBe0LFxVM",
    "outputId": "fa343cd2-bd49-4f1a-e0dd-2d811bab94ab"
   },
   "outputs": [],
   "source": [
    "# 13. CM Visualize\n"
   ]
  }
 ],
 "metadata": {
  "colab": {
   "collapsed_sections": [],
   "name": "(Full)Classification-with-Python.ipynb",
   "provenance": []
  },
  "kernelspec": {
   "display_name": "py38_tensorflow",
   "language": "python",
   "name": "conda-env-py38_tensorflow-py"
  },
  "language_info": {
   "codemirror_mode": {
    "name": "ipython",
    "version": 3
   },
   "file_extension": ".py",
   "mimetype": "text/x-python",
   "name": "python",
   "nbconvert_exporter": "python",
   "pygments_lexer": "ipython3",
   "version": "3.8.8"
  }
 },
 "nbformat": 4,
 "nbformat_minor": 1
}
