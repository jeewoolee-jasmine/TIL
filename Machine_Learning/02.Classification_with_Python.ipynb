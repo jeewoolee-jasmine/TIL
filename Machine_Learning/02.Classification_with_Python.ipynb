{
 "cells": [
  {
   "cell_type": "markdown",
   "metadata": {},
   "source": [
    "## Machine Leaning 실습"
   ]
  },
  {
   "cell_type": "markdown",
   "metadata": {},
   "source": [
    "### Classification With Python"
   ]
  },
  {
   "cell_type": "code",
   "execution_count": 132,
   "metadata": {
    "colab": {
     "base_uri": "https://localhost:8080/"
    },
    "id": "9EBh50YkFRws",
    "outputId": "3f3fb77d-4dd5-43bd-d622-4a5508629ce9"
   },
   "outputs": [],
   "source": [
    "# 1. package 가져오기\n",
    "import pandas as pd\n",
    "import numpy as np\n",
    "import sklearn\n",
    "%config Completer.use_jedi = False"
   ]
  },
  {
   "cell_type": "code",
   "execution_count": 133,
   "metadata": {
    "colab": {
     "base_uri": "https://localhost:8080/",
     "height": 204
    },
    "id": "OFm1FqfmGsMM",
    "outputId": "5efcb95c-c077-4afa-b985-acaffdecfde5"
   },
   "outputs": [
    {
     "data": {
      "text/html": [
       "<div>\n",
       "<style scoped>\n",
       "    .dataframe tbody tr th:only-of-type {\n",
       "        vertical-align: middle;\n",
       "    }\n",
       "\n",
       "    .dataframe tbody tr th {\n",
       "        vertical-align: top;\n",
       "    }\n",
       "\n",
       "    .dataframe thead th {\n",
       "        text-align: right;\n",
       "    }\n",
       "</style>\n",
       "<table border=\"1\" class=\"dataframe\">\n",
       "  <thead>\n",
       "    <tr style=\"text-align: right;\">\n",
       "      <th></th>\n",
       "      <th>User ID</th>\n",
       "      <th>Gender</th>\n",
       "      <th>Age</th>\n",
       "      <th>EstimatedSalary</th>\n",
       "      <th>Purchased</th>\n",
       "    </tr>\n",
       "  </thead>\n",
       "  <tbody>\n",
       "    <tr>\n",
       "      <th>0</th>\n",
       "      <td>15566689</td>\n",
       "      <td>Female</td>\n",
       "      <td>35.0</td>\n",
       "      <td>57000.0</td>\n",
       "      <td>0</td>\n",
       "    </tr>\n",
       "    <tr>\n",
       "      <th>1</th>\n",
       "      <td>15569641</td>\n",
       "      <td>Female</td>\n",
       "      <td>58.0</td>\n",
       "      <td>95000.0</td>\n",
       "      <td>1</td>\n",
       "    </tr>\n",
       "    <tr>\n",
       "      <th>2</th>\n",
       "      <td>15570769</td>\n",
       "      <td>Female</td>\n",
       "      <td>26.0</td>\n",
       "      <td>80000.0</td>\n",
       "      <td>0</td>\n",
       "    </tr>\n",
       "    <tr>\n",
       "      <th>3</th>\n",
       "      <td>15570932</td>\n",
       "      <td>Male</td>\n",
       "      <td>34.0</td>\n",
       "      <td>115000.0</td>\n",
       "      <td>0</td>\n",
       "    </tr>\n",
       "    <tr>\n",
       "      <th>4</th>\n",
       "      <td>15571059</td>\n",
       "      <td>Female</td>\n",
       "      <td>33.0</td>\n",
       "      <td>41000.0</td>\n",
       "      <td>0</td>\n",
       "    </tr>\n",
       "    <tr>\n",
       "      <th>...</th>\n",
       "      <td>...</td>\n",
       "      <td>...</td>\n",
       "      <td>...</td>\n",
       "      <td>...</td>\n",
       "      <td>...</td>\n",
       "    </tr>\n",
       "    <tr>\n",
       "      <th>395</th>\n",
       "      <td>15813113</td>\n",
       "      <td>Male</td>\n",
       "      <td>40.0</td>\n",
       "      <td>107000.0</td>\n",
       "      <td>1</td>\n",
       "    </tr>\n",
       "    <tr>\n",
       "      <th>396</th>\n",
       "      <td>15814004</td>\n",
       "      <td>Male</td>\n",
       "      <td>27.0</td>\n",
       "      <td>20000.0</td>\n",
       "      <td>0</td>\n",
       "    </tr>\n",
       "    <tr>\n",
       "      <th>397</th>\n",
       "      <td>15814553</td>\n",
       "      <td>Male</td>\n",
       "      <td>57.0</td>\n",
       "      <td>60000.0</td>\n",
       "      <td>1</td>\n",
       "    </tr>\n",
       "    <tr>\n",
       "      <th>398</th>\n",
       "      <td>15814816</td>\n",
       "      <td>Male</td>\n",
       "      <td>31.0</td>\n",
       "      <td>66000.0</td>\n",
       "      <td>0</td>\n",
       "    </tr>\n",
       "    <tr>\n",
       "      <th>399</th>\n",
       "      <td>15815236</td>\n",
       "      <td>Female</td>\n",
       "      <td>45.0</td>\n",
       "      <td>131000.0</td>\n",
       "      <td>1</td>\n",
       "    </tr>\n",
       "  </tbody>\n",
       "</table>\n",
       "<p>400 rows × 5 columns</p>\n",
       "</div>"
      ],
      "text/plain": [
       "      User ID  Gender   Age  EstimatedSalary  Purchased\n",
       "0    15566689  Female  35.0          57000.0          0\n",
       "1    15569641  Female  58.0          95000.0          1\n",
       "2    15570769  Female  26.0          80000.0          0\n",
       "3    15570932    Male  34.0         115000.0          0\n",
       "4    15571059  Female  33.0          41000.0          0\n",
       "..        ...     ...   ...              ...        ...\n",
       "395  15813113    Male  40.0         107000.0          1\n",
       "396  15814004    Male  27.0          20000.0          0\n",
       "397  15814553    Male  57.0          60000.0          1\n",
       "398  15814816    Male  31.0          66000.0          0\n",
       "399  15815236  Female  45.0         131000.0          1\n",
       "\n",
       "[400 rows x 5 columns]"
      ]
     },
     "execution_count": 133,
     "metadata": {},
     "output_type": "execute_result"
    }
   ],
   "source": [
    "# 2. 데이터 프레임\n",
    "DF = pd.read_csv('02Social_Network_Ads.csv')\n",
    "DF"
   ]
  },
  {
   "cell_type": "code",
   "execution_count": 134,
   "metadata": {
    "colab": {
     "base_uri": "https://localhost:8080/"
    },
    "id": "hrYQm76BHHtG",
    "outputId": "abbe2765-dc4e-4f58-fb85-c97e42a018fb",
    "scrolled": true
   },
   "outputs": [
    {
     "data": {
      "text/html": [
       "<div>\n",
       "<style scoped>\n",
       "    .dataframe tbody tr th:only-of-type {\n",
       "        vertical-align: middle;\n",
       "    }\n",
       "\n",
       "    .dataframe tbody tr th {\n",
       "        vertical-align: top;\n",
       "    }\n",
       "\n",
       "    .dataframe thead th {\n",
       "        text-align: right;\n",
       "    }\n",
       "</style>\n",
       "<table border=\"1\" class=\"dataframe\">\n",
       "  <thead>\n",
       "    <tr style=\"text-align: right;\">\n",
       "      <th></th>\n",
       "      <th>User ID</th>\n",
       "      <th>Gender</th>\n",
       "      <th>Age</th>\n",
       "      <th>EstimatedSalary</th>\n",
       "      <th>Purchased</th>\n",
       "    </tr>\n",
       "  </thead>\n",
       "  <tbody>\n",
       "    <tr>\n",
       "      <th>0</th>\n",
       "      <td>15566689</td>\n",
       "      <td>Female</td>\n",
       "      <td>35.0</td>\n",
       "      <td>57000.0</td>\n",
       "      <td>0</td>\n",
       "    </tr>\n",
       "    <tr>\n",
       "      <th>1</th>\n",
       "      <td>15569641</td>\n",
       "      <td>Female</td>\n",
       "      <td>58.0</td>\n",
       "      <td>95000.0</td>\n",
       "      <td>1</td>\n",
       "    </tr>\n",
       "    <tr>\n",
       "      <th>2</th>\n",
       "      <td>15570769</td>\n",
       "      <td>Female</td>\n",
       "      <td>26.0</td>\n",
       "      <td>80000.0</td>\n",
       "      <td>0</td>\n",
       "    </tr>\n",
       "    <tr>\n",
       "      <th>3</th>\n",
       "      <td>15570932</td>\n",
       "      <td>Male</td>\n",
       "      <td>34.0</td>\n",
       "      <td>115000.0</td>\n",
       "      <td>0</td>\n",
       "    </tr>\n",
       "    <tr>\n",
       "      <th>4</th>\n",
       "      <td>15571059</td>\n",
       "      <td>Female</td>\n",
       "      <td>33.0</td>\n",
       "      <td>41000.0</td>\n",
       "      <td>0</td>\n",
       "    </tr>\n",
       "  </tbody>\n",
       "</table>\n",
       "</div>"
      ],
      "text/plain": [
       "    User ID  Gender   Age  EstimatedSalary  Purchased\n",
       "0  15566689  Female  35.0          57000.0          0\n",
       "1  15569641  Female  58.0          95000.0          1\n",
       "2  15570769  Female  26.0          80000.0          0\n",
       "3  15570932    Male  34.0         115000.0          0\n",
       "4  15571059  Female  33.0          41000.0          0"
      ]
     },
     "execution_count": 134,
     "metadata": {},
     "output_type": "execute_result"
    }
   ],
   "source": [
    "# 3. 데이터 살펴보기\n",
    "DF.head()"
   ]
  },
  {
   "cell_type": "code",
   "execution_count": 135,
   "metadata": {
    "colab": {
     "base_uri": "https://localhost:8080/"
    },
    "id": "8I-8xQE1HZ2G",
    "outputId": "6d385155-2f41-44b3-8553-682454bec440"
   },
   "outputs": [
    {
     "name": "stdout",
     "output_type": "stream",
     "text": [
      "     Gender   Age  EstimatedSalary\n",
      "0    Female  35.0          57000.0\n",
      "1    Female  58.0          95000.0\n",
      "2    Female  26.0          80000.0\n",
      "3      Male  34.0         115000.0\n",
      "4    Female  33.0          41000.0\n",
      "..      ...   ...              ...\n",
      "395    Male  40.0         107000.0\n",
      "396    Male  27.0          20000.0\n",
      "397    Male  57.0          60000.0\n",
      "398    Male  31.0          66000.0\n",
      "399  Female  45.0         131000.0\n",
      "\n",
      "[400 rows x 3 columns]\n",
      "0      0\n",
      "1      1\n",
      "2      0\n",
      "3      0\n",
      "4      0\n",
      "      ..\n",
      "395    1\n",
      "396    0\n",
      "397    1\n",
      "398    0\n",
      "399    1\n",
      "Name: Purchased, Length: 400, dtype: int64\n"
     ]
    }
   ],
   "source": [
    "# 4. feature/label 분리\n",
    "\n",
    "x= DF.iloc[:, 1:-1]\n",
    "print(x)\n",
    "\n",
    "y= DF['Purchased']\n",
    "print(y)"
   ]
  },
  {
   "cell_type": "code",
   "execution_count": 136,
   "metadata": {
    "colab": {
     "base_uri": "https://localhost:8080/"
    },
    "id": "TK2crw80JbQm",
    "outputId": "1bada6cb-6b35-47cb-99ea-3469d5faf4ba"
   },
   "outputs": [
    {
     "data": {
      "text/plain": [
       "Gender              6\n",
       "Age                10\n",
       "EstimatedSalary    12\n",
       "dtype: int64"
      ]
     },
     "execution_count": 136,
     "metadata": {},
     "output_type": "execute_result"
    }
   ],
   "source": [
    "# 5. 빠진 값 확인 \n",
    "x.isnull().sum()"
   ]
  },
  {
   "cell_type": "code",
   "execution_count": 137,
   "metadata": {},
   "outputs": [],
   "source": [
    "# 6. Clean Missing Data 1 - numeric\n",
    "from sklearn.impute import SimpleImputer\n",
    "mean_imputer =SimpleImputer(strategy = 'mean')\n",
    "mean_imputer.fit(x.iloc[:, 1:])\n",
    "x.iloc[:, 1:] =mean_imputer.transform(x.iloc[:, 1:])"
   ]
  },
  {
   "cell_type": "code",
   "execution_count": 138,
   "metadata": {},
   "outputs": [
    {
     "data": {
      "text/plain": [
       "Gender             6\n",
       "Age                0\n",
       "EstimatedSalary    0\n",
       "dtype: int64"
      ]
     },
     "execution_count": 138,
     "metadata": {},
     "output_type": "execute_result"
    }
   ],
   "source": [
    "x.isnull().sum()"
   ]
  },
  {
   "cell_type": "markdown",
   "metadata": {},
   "source": [
    "## 오류가 나는 이유는, array 2차원으로 shape 변경을 해주어야한다. \n",
    "\n"
   ]
  },
  {
   "cell_type": "code",
   "execution_count": 139,
   "metadata": {},
   "outputs": [
    {
     "data": {
      "text/html": [
       "<div>\n",
       "<style scoped>\n",
       "    .dataframe tbody tr th:only-of-type {\n",
       "        vertical-align: middle;\n",
       "    }\n",
       "\n",
       "    .dataframe tbody tr th {\n",
       "        vertical-align: top;\n",
       "    }\n",
       "\n",
       "    .dataframe thead th {\n",
       "        text-align: right;\n",
       "    }\n",
       "</style>\n",
       "<table border=\"1\" class=\"dataframe\">\n",
       "  <thead>\n",
       "    <tr style=\"text-align: right;\">\n",
       "      <th></th>\n",
       "      <th>Gender</th>\n",
       "    </tr>\n",
       "  </thead>\n",
       "  <tbody>\n",
       "    <tr>\n",
       "      <th>0</th>\n",
       "      <td>Female</td>\n",
       "    </tr>\n",
       "    <tr>\n",
       "      <th>1</th>\n",
       "      <td>Female</td>\n",
       "    </tr>\n",
       "    <tr>\n",
       "      <th>2</th>\n",
       "      <td>Female</td>\n",
       "    </tr>\n",
       "    <tr>\n",
       "      <th>3</th>\n",
       "      <td>Male</td>\n",
       "    </tr>\n",
       "    <tr>\n",
       "      <th>4</th>\n",
       "      <td>Female</td>\n",
       "    </tr>\n",
       "    <tr>\n",
       "      <th>...</th>\n",
       "      <td>...</td>\n",
       "    </tr>\n",
       "    <tr>\n",
       "      <th>395</th>\n",
       "      <td>Male</td>\n",
       "    </tr>\n",
       "    <tr>\n",
       "      <th>396</th>\n",
       "      <td>Male</td>\n",
       "    </tr>\n",
       "    <tr>\n",
       "      <th>397</th>\n",
       "      <td>Male</td>\n",
       "    </tr>\n",
       "    <tr>\n",
       "      <th>398</th>\n",
       "      <td>Male</td>\n",
       "    </tr>\n",
       "    <tr>\n",
       "      <th>399</th>\n",
       "      <td>Female</td>\n",
       "    </tr>\n",
       "  </tbody>\n",
       "</table>\n",
       "<p>400 rows × 1 columns</p>\n",
       "</div>"
      ],
      "text/plain": [
       "     Gender\n",
       "0    Female\n",
       "1    Female\n",
       "2    Female\n",
       "3      Male\n",
       "4    Female\n",
       "..      ...\n",
       "395    Male\n",
       "396    Male\n",
       "397    Male\n",
       "398    Male\n",
       "399  Female\n",
       "\n",
       "[400 rows x 1 columns]"
      ]
     },
     "execution_count": 139,
     "metadata": {},
     "output_type": "execute_result"
    }
   ],
   "source": [
    "x.iloc[:,:1]    # fit에들어가는 형태는 [:,0] 과 같은 형태는 적용되지 않는다. 왜냐하면 0 은 1차원이며\n",
    "               # :1 == 0 은 같은 의미이지만, 다른 형태를 가지고 있기 때문이다. "
   ]
  },
  {
   "cell_type": "code",
   "execution_count": null,
   "metadata": {},
   "outputs": [],
   "source": []
  },
  {
   "cell_type": "code",
   "execution_count": 140,
   "metadata": {},
   "outputs": [
    {
     "data": {
      "text/plain": [
       "Gender             0\n",
       "Age                0\n",
       "EstimatedSalary    0\n",
       "dtype: int64"
      ]
     },
     "execution_count": 140,
     "metadata": {},
     "output_type": "execute_result"
    }
   ],
   "source": [
    "#freq_imputer_gender = SimpleImputer(strategy = 'most_frequent')\n",
    "\n",
    "#freq_imputer_gender.fit(x.iloc[:,1])\n",
    "#x.iloc[:,0]= freq_imputer_gender.tranform(x.iloc[:,:1])\n",
    "\n",
    "\n",
    "freq_imputer=  SimpleImputer(strategy = 'most_frequent')\n",
    "x.iloc[:,0] = freq_imputer.fit_transform(x.iloc[:,:1])\n",
    "x.isnull().sum()\n"
   ]
  },
  {
   "cell_type": "code",
   "execution_count": 141,
   "metadata": {
    "scrolled": true
   },
   "outputs": [
    {
     "data": {
      "text/plain": [
       "Gender             0\n",
       "Age                0\n",
       "EstimatedSalary    0\n",
       "dtype: int64"
      ]
     },
     "execution_count": 141,
     "metadata": {},
     "output_type": "execute_result"
    }
   ],
   "source": [
    "x.isnull().sum()"
   ]
  },
  {
   "cell_type": "code",
   "execution_count": 142,
   "metadata": {
    "colab": {
     "base_uri": "https://localhost:8080/"
    },
    "id": "w3uFQAYfS0iq",
    "outputId": "d5ebec94-e7ac-4a54-80e7-43dc068de9ab"
   },
   "outputs": [
    {
     "data": {
      "text/plain": [
       "array([[1.00e+00, 0.00e+00, 3.50e+01, 5.70e+04],\n",
       "       [1.00e+00, 0.00e+00, 5.80e+01, 9.50e+04],\n",
       "       [1.00e+00, 0.00e+00, 2.60e+01, 8.00e+04],\n",
       "       ...,\n",
       "       [0.00e+00, 1.00e+00, 5.70e+01, 6.00e+04],\n",
       "       [0.00e+00, 1.00e+00, 3.10e+01, 6.60e+04],\n",
       "       [1.00e+00, 0.00e+00, 4.50e+01, 1.31e+05]])"
      ]
     },
     "execution_count": 142,
     "metadata": {},
     "output_type": "execute_result"
    }
   ],
   "source": [
    "# 7. One hot encoding\n",
    "from sklearn.compose import ColumnTransformer\n",
    "from sklearn.preprocessing import OneHotEncoder\n",
    "\n",
    "ct = ColumnTransformer( [(\"one_hot_encoder\", OneHotEncoder(), [0])], remainder ='passthrough')\n",
    "\n",
    "x= ct.fit_transform(x)\n",
    "x\n"
   ]
  },
  {
   "cell_type": "code",
   "execution_count": 143,
   "metadata": {
    "colab": {
     "base_uri": "https://localhost:8080/"
    },
    "id": "Y4fkdd-CWdgL",
    "outputId": "c7099b65-59de-4db0-a1ae-bfa5a7ce228b"
   },
   "outputs": [],
   "source": [
    "# 8. split data\n",
    "from sklearn.model_selection import train_test_split\n",
    "X_train, X_test, y_train, y_test = train_test_split(x,y, test_size= 0.2, random_state = 42)"
   ]
  },
  {
   "cell_type": "code",
   "execution_count": 144,
   "metadata": {
    "colab": {
     "base_uri": "https://localhost:8080/"
    },
    "id": "b6xgYWlTX8-v",
    "outputId": "7c54115c-200b-49e0-dc1e-77989c759a1e"
   },
   "outputs": [
    {
     "data": {
      "text/plain": [
       "LogisticRegression()"
      ]
     },
     "execution_count": 144,
     "metadata": {},
     "output_type": "execute_result"
    }
   ],
   "source": [
    "# 9. train\n",
    "from sklearn.linear_model import LogisticRegression\n",
    "Logistic_model = LogisticRegression()\n",
    "Logistic_model.fit(X_train, y_train)"
   ]
  },
  {
   "cell_type": "code",
   "execution_count": 145,
   "metadata": {
    "colab": {
     "base_uri": "https://localhost:8080/"
    },
    "id": "6yHBo-wkZNPQ",
    "outputId": "b03fdb86-b00d-4ccb-94aa-9a4a9b9015a8"
   },
   "outputs": [
    {
     "name": "stdout",
     "output_type": "stream",
     "text": [
      "[0 0 0 0 0 0 0 0 0 0 0 0 0 0 0 0 0 0 0 0 0 0 0 0 0 0 0 0 0 0 0 0 0 0 0 0 0\n",
      " 0 0 0 0 0 0 0 0 0 0 0 0 0 0 0 0 0 0 0 0 0 0 0 0 0 0 0 0 0 0 0 0 0 0 0 0 0\n",
      " 0 0 0 0 0 0]\n",
      "[0 0 0 0 0 0 1 1 0 0 0 0 0 0 0 0 1 0 0 1 1 1 0 1 0 0 0 0 1 0 1 0 1 1 0 0 0\n",
      " 1 0 1 0 0 0 0 0 0 0 0 0 1 0 0 1 1 0 0 1 0 1 0 0 0 1 1 0 0 0 1 0 1 0 0 0 1\n",
      " 0 0 0 0 0 0]\n"
     ]
    }
   ],
   "source": [
    "# 10. Score\n",
    "y_pred = Logistic_model.predict(X_test)\n",
    "print(y_pred)\n",
    "print(np.array(y_test))"
   ]
  },
  {
   "cell_type": "code",
   "execution_count": 146,
   "metadata": {
    "colab": {
     "base_uri": "https://localhost:8080/"
    },
    "id": "2brrEteeZp4z",
    "outputId": "cdf608c1-0f78-46df-a610-13b77418ff0c"
   },
   "outputs": [
    {
     "name": "stdout",
     "output_type": "stream",
     "text": [
      "0.7125\n",
      "0.0\n",
      "0.0\n"
     ]
    },
    {
     "name": "stderr",
     "output_type": "stream",
     "text": [
      "/anaconda/envs/py38_tensorflow/lib/python3.8/site-packages/sklearn/metrics/_classification.py:1245: UndefinedMetricWarning: Precision is ill-defined and being set to 0.0 due to no predicted samples. Use `zero_division` parameter to control this behavior.\n",
      "  _warn_prf(average, modifier, msg_start, len(result))\n"
     ]
    }
   ],
   "source": [
    "# 11. Evaluate\n",
    "\n",
    "from sklearn.metrics import accuracy_score, precision_score, recall_score\n",
    "\n",
    "acc = accuracy_score(y_test, y_pred)\n",
    "pres =  precision_score(y_test, y_pred)\n",
    "recall= recall_score(y_test, y_pred)\n",
    "\n",
    "print(acc)\n",
    "print(pres)\n",
    "print(recall)"
   ]
  },
  {
   "cell_type": "code",
   "execution_count": 131,
   "metadata": {
    "colab": {
     "base_uri": "https://localhost:8080/"
    },
    "id": "Ziu78-VaZ0J6",
    "outputId": "5937f1b3-92d5-40d8-e5a0-7392a2586cb6"
   },
   "outputs": [
    {
     "name": "stdout",
     "output_type": "stream",
     "text": [
      "[[57  0]\n",
      " [23  0]]\n"
     ]
    }
   ],
   "source": [
    "# 12. Confusion Matrix\n",
    "\n",
    "from sklearn.metrics import confusion_matrix\n",
    "cm = confusion_matrix(y_test, y_pred)\n",
    "print(cm)\n"
   ]
  },
  {
   "cell_type": "code",
   "execution_count": null,
   "metadata": {
    "colab": {
     "base_uri": "https://localhost:8080/",
     "height": 348
    },
    "id": "_S-UBe0LFxVM",
    "outputId": "fa343cd2-bd49-4f1a-e0dd-2d811bab94ab"
   },
   "outputs": [],
   "source": [
    "# 13. CM Visualize\n"
   ]
  }
 ],
 "metadata": {
  "colab": {
   "collapsed_sections": [],
   "name": "(Full)Classification-with-Python.ipynb",
   "provenance": []
  },
  "kernelspec": {
   "display_name": "py38_tensorflow",
   "language": "python",
   "name": "conda-env-py38_tensorflow-py"
  },
  "language_info": {
   "codemirror_mode": {
    "name": "ipython",
    "version": 3
   },
   "file_extension": ".py",
   "mimetype": "text/x-python",
   "name": "python",
   "nbconvert_exporter": "python",
   "pygments_lexer": "ipython3",
   "version": "3.8.8"
  }
 },
 "nbformat": 4,
 "nbformat_minor": 1
}
