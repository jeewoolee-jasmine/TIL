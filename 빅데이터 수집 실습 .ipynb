{
 "cells": [
  {
   "cell_type": "markdown",
   "metadata": {},
   "source": [
    "# 웹 크롤링 기초 "
   ]
  },
  {
   "cell_type": "code",
   "execution_count": 44,
   "metadata": {},
   "outputs": [],
   "source": [
    "import urllib.request\n",
    "url = \"http://www.naver.com/\"\n",
    "html= urllib.request.urlopen(url)"
   ]
  },
  {
   "cell_type": "code",
   "execution_count": 45,
   "metadata": {
    "scrolled": true
   },
   "outputs": [
    {
     "name": "stdout",
     "output_type": "stream",
     "text": [
      "Requirement already satisfied: BeautifulSoup4 in c:\\users\\admin\\anaconda3\\lib\\site-packages (4.9.3)\n",
      "Requirement already satisfied: soupsieve>1.2; python_version >= \"3.0\" in c:\\users\\admin\\anaconda3\\lib\\site-packages (from BeautifulSoup4) (2.0.1)\n"
     ]
    }
   ],
   "source": [
    "!pip install BeautifulSoup4 "
   ]
  },
  {
   "cell_type": "code",
   "execution_count": 46,
   "metadata": {},
   "outputs": [],
   "source": [
    "from bs4 import BeautifulSoup\n"
   ]
  },
  {
   "cell_type": "code",
   "execution_count": 47,
   "metadata": {},
   "outputs": [
    {
     "data": {
      "text/plain": [
       "('test.png', <http.client.HTTPMessage at 0x218540651c0>)"
      ]
     },
     "execution_count": 47,
     "metadata": {},
     "output_type": "execute_result"
    }
   ],
   "source": [
    "import urllib.request\n",
    "url=\"http://uta.pw/shodou/img/28/214.png\"\n",
    "filename = \"test.png\"\n",
    "urllib.request.urlretrieve(url, filename)\n"
   ]
  },
  {
   "cell_type": "code",
   "execution_count": 48,
   "metadata": {},
   "outputs": [],
   "source": [
    "\n",
    "\n",
    "collect_web_page = \"\"\"\n",
    "                    <html>\n",
    "                        <body>\n",
    "                            <ul class=\"greet\">\n",
    "                                <li>hello</li>\n",
    "                                <li>bye</li>\n",
    "                                <li>welcome</li>\n",
    "                            </ul>\n",
    "                            <ul class=\"reply\">\n",
    "                                <li>ok</li>\n",
    "                                <li>no</li>\n",
    "                                <li>sure</li>\n",
    "                            </ul></body></html>\n",
    "\"\"\""
   ]
  },
  {
   "cell_type": "code",
   "execution_count": 51,
   "metadata": {},
   "outputs": [],
   "source": [
    "soup =BeautifulSoup(collect_web_page,'html.parser')"
   ]
  },
  {
   "cell_type": "code",
   "execution_count": 59,
   "metadata": {},
   "outputs": [
    {
     "data": {
      "text/plain": [
       "'hello'"
      ]
     },
     "execution_count": 59,
     "metadata": {},
     "output_type": "execute_result"
    }
   ],
   "source": [
    "ls= soup.find('li')\n",
    "ls.text"
   ]
  },
  {
   "cell_type": "code",
   "execution_count": 63,
   "metadata": {},
   "outputs": [
    {
     "name": "stdout",
     "output_type": "stream",
     "text": [
      "hello\n",
      "bye\n",
      "welcome\n",
      "ok\n",
      "no\n",
      "sure\n"
     ]
    }
   ],
   "source": [
    "lis = soup.findAll('li')\n",
    "\n",
    "for item in lis:\n",
    "    print(item.text)"
   ]
  },
  {
   "cell_type": "code",
   "execution_count": 68,
   "metadata": {},
   "outputs": [],
   "source": [
    "import urllib.request\n",
    "import bs4\n",
    "\n",
    "url =\"http://www.naver.com/\"\n",
    "html = urllib.request.urlopen(url)\n",
    "soup= bs4.BeautifulSoup(html, \"html.parser\")"
   ]
  },
  {
   "cell_type": "code",
   "execution_count": 74,
   "metadata": {},
   "outputs": [
    {
     "name": "stdout",
     "output_type": "stream",
     "text": [
      "\n",
      "메일\n",
      "\n",
      "카페\n",
      "블로그\n",
      "지식iN\n",
      "쇼핑\n",
      "Pay\n",
      "\n",
      "TV\n",
      "\n"
     ]
    }
   ],
   "source": [
    "ul =soup.find(\"ul\",{\"class\":\"type_fix\"})\n",
    "list = ul.findAll(\"li\")\n",
    "\n",
    "for li in list:\n",
    "    print(li.text)"
   ]
  },
  {
   "cell_type": "code",
   "execution_count": 75,
   "metadata": {},
   "outputs": [],
   "source": [
    "url = \"https://movie.naver.com/movie/sdb/rank/rmovie.nhn?sel=cur&date=20210421\"\n",
    "\n",
    "html = urllib.request.urlopen(url)\n",
    "\n",
    "soup = BeautifulSoup(html, \"html.parser\")"
   ]
  },
  {
   "cell_type": "code",
   "execution_count": 77,
   "metadata": {},
   "outputs": [
    {
     "name": "stdout",
     "output_type": "stream",
     "text": [
      "극장판 바이올렛 에버가든\n",
      "부활: 그 증거\n",
      "패왕별희 디 오리지널\n",
      "극장판 귀멸의 칼날: 무한열차편\n",
      "소울\n",
      "자산어보\n",
      "천녀유혼\n",
      "플립\n",
      "러빙 빈센트\n",
      "해피 투게더\n",
      "영웅본색\n",
      "파수꾼\n",
      "라야와 마지막 드래곤\n",
      "명탐정 코난: 비색의 탄환\n",
      "영웅본색 2\n",
      "남매의 여름밤\n",
      "더 박스\n",
      "시\n",
      "러브 액츄얼리\n",
      "중경삼림\n",
      "아무도 모른다\n",
      "이별의 아침에 약속의 꽃을 장식하자\n",
      "초록물고기\n",
      "화양연화\n",
      "소공녀\n",
      "찬실이는 복도 많지\n",
      "벌새\n",
      "건축학개론\n",
      "노바디 \n",
      "늑대소년\n",
      "플로리다 프로젝트\n",
      "세자매\n",
      "블루 재스민\n",
      "아비정전\n",
      "문영\n",
      "너의 췌장을 먹고 싶어\n",
      "아틱\n",
      "패터슨\n",
      "고질라 VS. 콩\n",
      "팅커 테일러 솔저 스파이\n",
      "테넷\n",
      "문라이즈 킹덤\n",
      "더 테이블\n",
      "두번째 사랑\n",
      "날씨의 아이\n",
      "너는 여기에 없었다\n",
      "미나리\n",
      "최악의 하루\n",
      "멜랑콜리아\n",
      "카페 소사이어티\n"
     ]
    }
   ],
   "source": [
    "title_of_Movie = soup.findAll('td', {\"class\":\"title\"})\n",
    "\n",
    "for item in title_of_Movie:\n",
    "    print(item.find('a').text)"
   ]
  },
  {
   "cell_type": "code",
   "execution_count": null,
   "metadata": {},
   "outputs": [],
   "source": []
  }
 ],
 "metadata": {
  "kernelspec": {
   "display_name": "Python 3",
   "language": "python",
   "name": "python3"
  },
  "language_info": {
   "codemirror_mode": {
    "name": "ipython",
    "version": 3
   },
   "file_extension": ".py",
   "mimetype": "text/x-python",
   "name": "python",
   "nbconvert_exporter": "python",
   "pygments_lexer": "ipython3",
   "version": "3.8.5"
  }
 },
 "nbformat": 4,
 "nbformat_minor": 4
}